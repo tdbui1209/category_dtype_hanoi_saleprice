{
 "cells": [
  {
   "cell_type": "code",
   "execution_count": 1,
   "id": "sapphire-bankruptcy",
   "metadata": {},
   "outputs": [],
   "source": [
    "import numpy as np\n",
    "import pandas as pd\n",
    "\n",
    "import matplotlib.pyplot as plt\n",
    "import seaborn as sns\n",
    "\n",
    "# Thư viện để xử lý các text entry\n",
    "import fuzzywuzzy\n",
    "from fuzzywuzzy import process\n",
    "\n",
    "from pandas.api.types import CategoricalDtype\n",
    "\n",
    "# Thư viện dùng để ẩn các warnings\n",
    "import warnings\n",
    "warnings.filterwarnings('ignore')"
   ]
  },
  {
   "cell_type": "code",
   "execution_count": 2,
   "id": "f53ca3c3",
   "metadata": {},
   "outputs": [],
   "source": [
    "DATA_PATH = 'VN_housing_dataset.csv'"
   ]
  },
  {
   "cell_type": "code",
   "execution_count": 3,
   "id": "native-noise",
   "metadata": {},
   "outputs": [
    {
     "data": {
      "text/html": [
       "<div>\n",
       "<style scoped>\n",
       "    .dataframe tbody tr th:only-of-type {\n",
       "        vertical-align: middle;\n",
       "    }\n",
       "\n",
       "    .dataframe tbody tr th {\n",
       "        vertical-align: top;\n",
       "    }\n",
       "\n",
       "    .dataframe thead th {\n",
       "        text-align: right;\n",
       "    }\n",
       "</style>\n",
       "<table border=\"1\" class=\"dataframe\">\n",
       "  <thead>\n",
       "    <tr style=\"text-align: right;\">\n",
       "      <th></th>\n",
       "      <th>Unnamed: 0</th>\n",
       "      <th>Ngày</th>\n",
       "      <th>Địa chỉ</th>\n",
       "      <th>Quận</th>\n",
       "      <th>Huyện</th>\n",
       "      <th>Loại hình nhà ở</th>\n",
       "      <th>Giấy tờ pháp lý</th>\n",
       "      <th>Số tầng</th>\n",
       "      <th>Số phòng ngủ</th>\n",
       "      <th>Diện tích</th>\n",
       "      <th>Dài</th>\n",
       "      <th>Rộng</th>\n",
       "      <th>Giá/m2</th>\n",
       "    </tr>\n",
       "  </thead>\n",
       "  <tbody>\n",
       "    <tr>\n",
       "      <th>0</th>\n",
       "      <td>0.0</td>\n",
       "      <td>2020-08-05</td>\n",
       "      <td>Đường Hoàng Quốc Việt, Phường Nghĩa Đô, Quận C...</td>\n",
       "      <td>Quận Cầu Giấy</td>\n",
       "      <td>Phường Nghĩa Đô</td>\n",
       "      <td>Nhà ngõ, hẻm</td>\n",
       "      <td>Đã có sổ</td>\n",
       "      <td>4</td>\n",
       "      <td>5 phòng</td>\n",
       "      <td>46 m²</td>\n",
       "      <td>NaN</td>\n",
       "      <td>NaN</td>\n",
       "      <td>86,96 triệu/m²</td>\n",
       "    </tr>\n",
       "    <tr>\n",
       "      <th>1</th>\n",
       "      <td>1.0</td>\n",
       "      <td>2020-08-05</td>\n",
       "      <td>Đường Kim Giang, Phường Kim Giang, Quận Thanh ...</td>\n",
       "      <td>Quận Thanh Xuân</td>\n",
       "      <td>Phường Kim Giang</td>\n",
       "      <td>Nhà mặt phố, mặt tiền</td>\n",
       "      <td>NaN</td>\n",
       "      <td>NaN</td>\n",
       "      <td>3 phòng</td>\n",
       "      <td>37 m²</td>\n",
       "      <td>NaN</td>\n",
       "      <td>NaN</td>\n",
       "      <td>116,22 triệu/m²</td>\n",
       "    </tr>\n",
       "    <tr>\n",
       "      <th>2</th>\n",
       "      <td>2.0</td>\n",
       "      <td>2020-08-05</td>\n",
       "      <td>phố minh khai, Phường Minh Khai, Quận Hai Bà T...</td>\n",
       "      <td>Quận Hai Bà Trưng</td>\n",
       "      <td>Phường Minh Khai</td>\n",
       "      <td>Nhà ngõ, hẻm</td>\n",
       "      <td>Đã có sổ</td>\n",
       "      <td>4</td>\n",
       "      <td>4 phòng</td>\n",
       "      <td>40 m²</td>\n",
       "      <td>10 m</td>\n",
       "      <td>4 m</td>\n",
       "      <td>65 triệu/m²</td>\n",
       "    </tr>\n",
       "    <tr>\n",
       "      <th>3</th>\n",
       "      <td>3.0</td>\n",
       "      <td>2020-08-05</td>\n",
       "      <td>Đường Võng Thị, Phường Thụy Khuê, Quận Tây Hồ,...</td>\n",
       "      <td>Quận Tây Hồ</td>\n",
       "      <td>Phường Thụy Khuê</td>\n",
       "      <td>Nhà ngõ, hẻm</td>\n",
       "      <td>Đã có sổ</td>\n",
       "      <td>NaN</td>\n",
       "      <td>6 phòng</td>\n",
       "      <td>51 m²</td>\n",
       "      <td>12.75 m</td>\n",
       "      <td>4 m</td>\n",
       "      <td>100 triệu/m²</td>\n",
       "    </tr>\n",
       "    <tr>\n",
       "      <th>4</th>\n",
       "      <td>4.0</td>\n",
       "      <td>2020-08-05</td>\n",
       "      <td>Đường Kim Giang, Phường Kim Giang, Quận Thanh ...</td>\n",
       "      <td>Quận Thanh Xuân</td>\n",
       "      <td>Phường Kim Giang</td>\n",
       "      <td>Nhà ngõ, hẻm</td>\n",
       "      <td>NaN</td>\n",
       "      <td>NaN</td>\n",
       "      <td>4 phòng</td>\n",
       "      <td>36 m²</td>\n",
       "      <td>9 m</td>\n",
       "      <td>4 m</td>\n",
       "      <td>86,11 triệu/m²</td>\n",
       "    </tr>\n",
       "  </tbody>\n",
       "</table>\n",
       "</div>"
      ],
      "text/plain": [
       "   Unnamed: 0        Ngày                                            Địa chỉ  \\\n",
       "0         0.0  2020-08-05  Đường Hoàng Quốc Việt, Phường Nghĩa Đô, Quận C...   \n",
       "1         1.0  2020-08-05  Đường Kim Giang, Phường Kim Giang, Quận Thanh ...   \n",
       "2         2.0  2020-08-05  phố minh khai, Phường Minh Khai, Quận Hai Bà T...   \n",
       "3         3.0  2020-08-05  Đường Võng Thị, Phường Thụy Khuê, Quận Tây Hồ,...   \n",
       "4         4.0  2020-08-05  Đường Kim Giang, Phường Kim Giang, Quận Thanh ...   \n",
       "\n",
       "                Quận             Huyện        Loại hình nhà ở Giấy tờ pháp lý  \\\n",
       "0      Quận Cầu Giấy   Phường Nghĩa Đô           Nhà ngõ, hẻm        Đã có sổ   \n",
       "1    Quận Thanh Xuân  Phường Kim Giang  Nhà mặt phố, mặt tiền             NaN   \n",
       "2  Quận Hai Bà Trưng  Phường Minh Khai           Nhà ngõ, hẻm        Đã có sổ   \n",
       "3        Quận Tây Hồ  Phường Thụy Khuê           Nhà ngõ, hẻm        Đã có sổ   \n",
       "4    Quận Thanh Xuân  Phường Kim Giang           Nhà ngõ, hẻm             NaN   \n",
       "\n",
       "  Số tầng Số phòng ngủ Diện tích      Dài Rộng           Giá/m2  \n",
       "0       4      5 phòng     46 m²      NaN  NaN   86,96 triệu/m²  \n",
       "1     NaN      3 phòng     37 m²      NaN  NaN  116,22 triệu/m²  \n",
       "2       4      4 phòng     40 m²     10 m  4 m      65 triệu/m²  \n",
       "3     NaN      6 phòng     51 m²  12.75 m  4 m     100 triệu/m²  \n",
       "4     NaN      4 phòng     36 m²      9 m  4 m   86,11 triệu/m²  "
      ]
     },
     "execution_count": 3,
     "metadata": {},
     "output_type": "execute_result"
    }
   ],
   "source": [
    "# Load dữ liệu và xem vài dòng đầu tiên của data.\n",
    "\n",
    "df = pd.read_csv(DATA_PATH)\n",
    "df.head()"
   ]
  },
  {
   "cell_type": "code",
   "execution_count": 4,
   "id": "plain-enzyme",
   "metadata": {},
   "outputs": [
    {
     "name": "stdout",
     "output_type": "stream",
     "text": [
      "<class 'pandas.core.frame.DataFrame'>\n",
      "RangeIndex: 82497 entries, 0 to 82496\n",
      "Data columns (total 13 columns):\n",
      " #   Column           Non-Null Count  Dtype  \n",
      "---  ------           --------------  -----  \n",
      " 0   Unnamed: 0       82496 non-null  float64\n",
      " 1   Ngày             82496 non-null  object \n",
      " 2   Địa chỉ          82449 non-null  object \n",
      " 3   Quận             82495 non-null  object \n",
      " 4   Huyện            82449 non-null  object \n",
      " 5   Loại hình nhà ở  82465 non-null  object \n",
      " 6   Giấy tờ pháp lý  53610 non-null  object \n",
      " 7   Số tầng          36399 non-null  object \n",
      " 8   Số phòng ngủ     82458 non-null  object \n",
      " 9   Diện tích        82495 non-null  object \n",
      " 10  Dài              19827 non-null  object \n",
      " 11  Rộng             35445 non-null  object \n",
      " 12  Giá/m2           82484 non-null  object \n",
      "dtypes: float64(1), object(12)\n",
      "memory usage: 8.2+ MB\n"
     ]
    }
   ],
   "source": [
    "# Xem thông tin của data\n",
    "\n",
    "df.info()"
   ]
  },
  {
   "attachments": {},
   "cell_type": "markdown",
   "id": "e7a102dd",
   "metadata": {},
   "source": [
    "# Data Cleaning"
   ]
  },
  {
   "cell_type": "code",
   "execution_count": 5,
   "id": "c752e28f",
   "metadata": {},
   "outputs": [],
   "source": [
    "# Drop các dòng bị trùng\n",
    "\n",
    "df.drop_duplicates(inplace=True)"
   ]
  },
  {
   "cell_type": "code",
   "execution_count": 6,
   "id": "07b590e7",
   "metadata": {},
   "outputs": [
    {
     "data": {
      "text/plain": [
       "Unnamed: 0             1\n",
       "Ngày                   1\n",
       "Địa chỉ               48\n",
       "Quận                   2\n",
       "Huyện                 48\n",
       "Loại hình nhà ở       32\n",
       "Giấy tờ pháp lý    28887\n",
       "Số tầng            46098\n",
       "Số phòng ngủ          39\n",
       "Diện tích              2\n",
       "Dài                62670\n",
       "Rộng               47052\n",
       "Giá/m2                13\n",
       "dtype: int64"
      ]
     },
     "execution_count": 6,
     "metadata": {},
     "output_type": "execute_result"
    }
   ],
   "source": [
    "# Số lượng các giá trị bị thiếu trong mỗi cột\n",
    "\n",
    "df.isna().sum()"
   ]
  },
  {
   "cell_type": "code",
   "execution_count": 7,
   "id": "3fb8a5d6",
   "metadata": {},
   "outputs": [
    {
     "data": {
      "text/plain": [
       "Unnamed: 0          0.001212\n",
       "Ngày                0.001212\n",
       "Địa chỉ             0.058184\n",
       "Quận                0.002424\n",
       "Huyện               0.058184\n",
       "Loại hình nhà ở     0.038789\n",
       "Giấy tờ pháp lý    35.015819\n",
       "Số tầng            55.878396\n",
       "Số phòng ngủ        0.047274\n",
       "Diện tích           0.002424\n",
       "Dài                75.966399\n",
       "Rộng               57.034801\n",
       "Giá/m2              0.015758\n",
       "dtype: float64"
      ]
     },
     "execution_count": 7,
     "metadata": {},
     "output_type": "execute_result"
    }
   ],
   "source": [
    "# Tỉ lệ giá trị NaN trong mỗi cột\n",
    "\n",
    "ratio_nan_per_col = df.isna().sum() / len(df) * 100\n",
    "ratio_nan_per_col"
   ]
  },
  {
   "attachments": {},
   "cell_type": "markdown",
   "id": "033a7d2f",
   "metadata": {},
   "source": [
    "Có thể thấy các cột 'Unnamed: 0', 'Ngày', 'Địa chỉ', 'Quận (Huyện, Thị xã)', 'Huyện', 'Loại hình nhà ở', 'Giấy tờ pháp lý', 'Số phòng ngủ', 'Diện tích' và 'Giá/m2' có số lượng giá trị NaN > 0.1%, nên thay vì xử lý, ta sẽ drop nó luôn"
   ]
  },
  {
   "cell_type": "code",
   "execution_count": 8,
   "id": "da02ba1f",
   "metadata": {},
   "outputs": [
    {
     "name": "stdout",
     "output_type": "stream",
     "text": [
      "Số lượng các dòng trước khi drop NaN: 82497 dòng\n"
     ]
    }
   ],
   "source": [
    "print('Số lượng các dòng trước khi drop NaN:', len(df), 'dòng')"
   ]
  },
  {
   "cell_type": "code",
   "execution_count": 9,
   "id": "b59208ed",
   "metadata": {},
   "outputs": [],
   "source": [
    "for col, ratio in zip(ratio_nan_per_col.index, ratio_nan_per_col.values):\n",
    "    if ratio < 1:\n",
    "        df.dropna(subset=col, inplace=True)"
   ]
  },
  {
   "cell_type": "code",
   "execution_count": 10,
   "id": "19b4a9dc",
   "metadata": {},
   "outputs": [
    {
     "name": "stdout",
     "output_type": "stream",
     "text": [
      "Số lượng các dòng sau khi drop NaN: 82360 dòng\n"
     ]
    }
   ],
   "source": [
    "print('Số lượng các dòng sau khi drop NaN:', len(df), 'dòng')"
   ]
  },
  {
   "attachments": {},
   "cell_type": "markdown",
   "id": "cc4aaf6e",
   "metadata": {},
   "source": [
    "## Convert cột \"Ngày\" sang datetime"
   ]
  },
  {
   "cell_type": "code",
   "execution_count": 11,
   "id": "9b5cacff",
   "metadata": {},
   "outputs": [],
   "source": [
    "df['Ngày'] = pd.to_datetime(df['Ngày'])"
   ]
  },
  {
   "attachments": {},
   "cell_type": "markdown",
   "id": "ccab7479",
   "metadata": {},
   "source": [
    "## Drop cột Unnamed: 0"
   ]
  },
  {
   "cell_type": "code",
   "execution_count": 12,
   "id": "grave-bulgarian",
   "metadata": {},
   "outputs": [],
   "source": [
    "df.drop(['Unnamed: 0'], axis=1, inplace=True)\n"
   ]
  },
  {
   "attachments": {},
   "cell_type": "markdown",
   "id": "6d14430f",
   "metadata": {},
   "source": [
    "## Kiểm tra cột \"Quận\""
   ]
  },
  {
   "cell_type": "code",
   "execution_count": 13,
   "id": "vital-elder",
   "metadata": {},
   "outputs": [
    {
     "data": {
      "text/plain": [
       "array(['Quận Cầu Giấy', 'Quận Thanh Xuân', 'Quận Hai Bà Trưng',\n",
       "       'Quận Tây Hồ', 'Quận Đống Đa', 'Quận Hà Đông', 'Huyện Thanh Trì',\n",
       "       'Quận Hoàng Mai', 'Quận Long Biên', 'Quận Hoàn Kiếm',\n",
       "       'Quận Nam Từ Liêm', 'Quận Ba Đình', 'Huyện Hoài Đức',\n",
       "       'Quận Bắc Từ Liêm', 'Huyện Đan Phượng', 'Huyện Thanh Oai',\n",
       "       'Huyện Sóc Sơn', 'Huyện Gia Lâm', 'Huyện Chương Mỹ',\n",
       "       'Huyện Đông Anh', 'Huyện Thường Tín', 'Thị xã Sơn Tây',\n",
       "       'Huyện Mê Linh', 'Huyện Thạch Thất', 'Huyện Quốc Oai',\n",
       "       'Huyện Phúc Thọ', 'Huyện Phú Xuyên', 'Huyện Ba Vì', 'Huyện Mỹ Đức'],\n",
       "      dtype=object)"
      ]
     },
     "execution_count": 13,
     "metadata": {},
     "output_type": "execute_result"
    }
   ],
   "source": [
    "df['Quận'].unique()"
   ]
  },
  {
   "attachments": {},
   "cell_type": "markdown",
   "id": "rising-claim",
   "metadata": {},
   "source": [
    "***Normial category***\n",
    "\n",
    "Chuyển data-type của 'Quận (Huyện, Thị xã)' sang 'category'.\n",
    "\n",
    "Nếu các giá trị của 1 cột là hữu hạn, ta nên đưa nó về category, nó sẽ giúp tiết kiệm bộ nhớ, cũng như có thể sử dụng các phương thức khác, mà kiểu object không thể, mặc dù cả hai đều chứa string.<br>\n",
    "Trong trường hợp, cột đó chứa feedback, hoặc description của sản phẩm, thì ta sẽ để nó ở kiểu object."
   ]
  },
  {
   "cell_type": "code",
   "execution_count": 14,
   "id": "honey-monitor",
   "metadata": {},
   "outputs": [
    {
     "name": "stdout",
     "output_type": "stream",
     "text": [
      "Trước khi chuyển sang categoy: 1317.76 kb\n"
     ]
    }
   ],
   "source": [
    "before = df['Quận'].memory_usage()  # memory usage of column in bytes\n",
    "print(f'Trước khi chuyển sang categoy: {before * 1e-3} kb')"
   ]
  },
  {
   "cell_type": "code",
   "execution_count": 15,
   "id": "medium-privacy",
   "metadata": {},
   "outputs": [
    {
     "name": "stdout",
     "output_type": "stream",
     "text": [
      "Sau khi chuyển sang category: 742.544 kb\n",
      "Giảm tới: 43.65%\n"
     ]
    }
   ],
   "source": [
    "df['Quận'] = df['Quận'].astype('category')\n",
    "\n",
    "after = df['Quận'].memory_usage()\n",
    "print(f'Sau khi chuyển sang category: {after * 1e-3} kb')\n",
    "\n",
    "result = (before - after) / before\n",
    "print(f'Giảm tới: {round(result * 100, 2)}%')"
   ]
  },
  {
   "attachments": {},
   "cell_type": "markdown",
   "id": "raised-proposition",
   "metadata": {},
   "source": [
    "Sau khi chuyển kiểu dữ liệu sang category, ta có thể encode, sắp xếp hoặc so sánh (nếu như đó là ordinal category)."
   ]
  },
  {
   "cell_type": "code",
   "execution_count": 16,
   "id": "confirmed-cholesterol",
   "metadata": {},
   "outputs": [
    {
     "data": {
      "text/plain": [
       "Index(['Huyện Ba Vì', 'Huyện Chương Mỹ', 'Huyện Gia Lâm', 'Huyện Hoài Đức',\n",
       "       'Huyện Mê Linh', 'Huyện Mỹ Đức', 'Huyện Phú Xuyên', 'Huyện Phúc Thọ',\n",
       "       'Huyện Quốc Oai', 'Huyện Sóc Sơn', 'Huyện Thanh Oai', 'Huyện Thanh Trì',\n",
       "       'Huyện Thường Tín', 'Huyện Thạch Thất', 'Huyện Đan Phượng',\n",
       "       'Huyện Đông Anh', 'Quận Ba Đình', 'Quận Bắc Từ Liêm', 'Quận Cầu Giấy',\n",
       "       'Quận Hai Bà Trưng', 'Quận Hoàn Kiếm', 'Quận Hoàng Mai', 'Quận Hà Đông',\n",
       "       'Quận Long Biên', 'Quận Nam Từ Liêm', 'Quận Thanh Xuân', 'Quận Tây Hồ',\n",
       "       'Quận Đống Đa', 'Thị xã Sơn Tây'],\n",
       "      dtype='object')"
      ]
     },
     "execution_count": 16,
     "metadata": {},
     "output_type": "execute_result"
    }
   ],
   "source": [
    "df['Quận'].cat.categories"
   ]
  },
  {
   "cell_type": "code",
   "execution_count": 17,
   "id": "82c176dd",
   "metadata": {},
   "outputs": [
    {
     "data": {
      "text/plain": [
       "0        Quận Cầu Giấy\n",
       "1      Quận Thanh Xuân\n",
       "2    Quận Hai Bà Trưng\n",
       "3          Quận Tây Hồ\n",
       "4      Quận Thanh Xuân\n",
       "Name: Quận, dtype: category\n",
       "Categories (29, object): ['Huyện Ba Vì', 'Huyện Chương Mỹ', 'Huyện Gia Lâm', 'Huyện Hoài Đức', ..., 'Quận Thanh Xuân', 'Quận Tây Hồ', 'Quận Đống Đa', 'Thị xã Sơn Tây']"
      ]
     },
     "execution_count": 17,
     "metadata": {},
     "output_type": "execute_result"
    }
   ],
   "source": [
    "df['Quận'].head()"
   ]
  },
  {
   "cell_type": "code",
   "execution_count": 18,
   "id": "hairy-submission",
   "metadata": {},
   "outputs": [
    {
     "data": {
      "text/plain": [
       "0    18\n",
       "1    25\n",
       "2    19\n",
       "3    26\n",
       "4    25\n",
       "dtype: int8"
      ]
     },
     "execution_count": 18,
     "metadata": {},
     "output_type": "execute_result"
    }
   ],
   "source": [
    "df['Quận'].cat.codes[:5]"
   ]
  },
  {
   "attachments": {},
   "cell_type": "markdown",
   "id": "5d25ea7e",
   "metadata": {},
   "source": [
    "## Kiểm tra cột \"Giấy tờ pháp lý\""
   ]
  },
  {
   "attachments": {},
   "cell_type": "markdown",
   "id": "competent-narrative",
   "metadata": {},
   "source": [
    "***Ordinal Category***\n",
    "\n",
    "Việc chuyển sang Ordinal Category cũng giống như Norminal Category, nhưng ta sẽ thêm vào đó order của các giá trị.<br>\n",
    "Ví dụ, 'thấp' < 'trung bình' < 'cao'"
   ]
  },
  {
   "cell_type": "code",
   "execution_count": 19,
   "id": "together-eagle",
   "metadata": {},
   "outputs": [],
   "source": [
    "df['Giấy tờ pháp lý'].fillna('Unknown', inplace=True)"
   ]
  },
  {
   "cell_type": "code",
   "execution_count": 20,
   "id": "4faf2e47",
   "metadata": {},
   "outputs": [
    {
     "data": {
      "text/plain": [
       "array(['Đã có sổ', 'Unknown', 'Đang chờ sổ', 'Giấy tờ khác'], dtype=object)"
      ]
     },
     "execution_count": 20,
     "metadata": {},
     "output_type": "execute_result"
    }
   ],
   "source": [
    "df['Giấy tờ pháp lý'].unique()"
   ]
  },
  {
   "attachments": {},
   "cell_type": "markdown",
   "id": "scheduled-facility",
   "metadata": {},
   "source": [
    "Ở đây ta có 'Đã có sổ', nan, 'Đang chờ sổ', 'Giấy tờ khác', vậy ta có thể tưởng tượng trong đầu ra thứ tự của nó.<br>\n",
    "\n",
    "'Unknown < 'Giấy tờ khác' < 'Đang chờ sổ' < 'Đã có sổ'"
   ]
  },
  {
   "attachments": {},
   "cell_type": "markdown",
   "id": "renewable-local",
   "metadata": {},
   "source": [
    "#### Trước khi chuyển sang ordinal category"
   ]
  },
  {
   "cell_type": "code",
   "execution_count": 21,
   "id": "equal-antibody",
   "metadata": {},
   "outputs": [
    {
     "data": {
      "text/plain": [
       "array(['Đã có sổ', 'Unknown', 'Đang chờ sổ'], dtype=object)"
      ]
     },
     "execution_count": 21,
     "metadata": {},
     "output_type": "execute_result"
    }
   ],
   "source": [
    "df[df['Giấy tờ pháp lý'] > 'Giấy tờ khác']['Giấy tờ pháp lý'].unique()"
   ]
  },
  {
   "attachments": {},
   "cell_type": "markdown",
   "id": "hairy-myanmar",
   "metadata": {},
   "source": [
    "#### Sau khi chuyển sang ordinal category"
   ]
  },
  {
   "cell_type": "code",
   "execution_count": 22,
   "id": "139d6b70",
   "metadata": {},
   "outputs": [],
   "source": [
    "giay_to_phap_ly = ['Unknown', 'Giấy tờ khác', 'Đang chờ sổ', 'Đã có sổ']\n",
    "df['Giấy tờ pháp lý'] = df['Giấy tờ pháp lý'].astype(CategoricalDtype(categories=giay_to_phap_ly, ordered=True))"
   ]
  },
  {
   "cell_type": "code",
   "execution_count": 23,
   "id": "gentle-trigger",
   "metadata": {},
   "outputs": [
    {
     "data": {
      "text/plain": [
       "['Đã có sổ', 'Đang chờ sổ']\n",
       "Categories (4, object): ['Unknown' < 'Giấy tờ khác' < 'Đang chờ sổ' < 'Đã có sổ']"
      ]
     },
     "execution_count": 23,
     "metadata": {},
     "output_type": "execute_result"
    }
   ],
   "source": [
    "df[df['Giấy tờ pháp lý'] > 'Giấy tờ khác']['Giấy tờ pháp lý'].unique()"
   ]
  },
  {
   "attachments": {},
   "cell_type": "markdown",
   "id": "20b9536f",
   "metadata": {},
   "source": [
    "*Note*: Có thể thấy, khi lọc các entries ở cột \"Giấy tờ pháp lý\" có giá trị cao hơn \"Giấy tờ khác\", sẽ trả về các entries có giá trị là \"Đã có sổ\" và \"Đang chờ sổ\" đúng như order ta mong muốn."
   ]
  },
  {
   "cell_type": "code",
   "execution_count": 24,
   "id": "illegal-destruction",
   "metadata": {},
   "outputs": [
    {
     "data": {
      "text/plain": [
       "0    Đã có sổ\n",
       "1     Unknown\n",
       "2    Đã có sổ\n",
       "3    Đã có sổ\n",
       "4     Unknown\n",
       "Name: Giấy tờ pháp lý, dtype: category\n",
       "Categories (4, object): ['Unknown' < 'Giấy tờ khác' < 'Đang chờ sổ' < 'Đã có sổ']"
      ]
     },
     "execution_count": 24,
     "metadata": {},
     "output_type": "execute_result"
    }
   ],
   "source": [
    "df['Giấy tờ pháp lý'].head()"
   ]
  },
  {
   "attachments": {},
   "cell_type": "markdown",
   "id": "3f892653",
   "metadata": {},
   "source": [
    "## Kiểm tra cột \"Loại hình nhà ở\""
   ]
  },
  {
   "cell_type": "code",
   "execution_count": 25,
   "id": "earned-manhattan",
   "metadata": {},
   "outputs": [
    {
     "data": {
      "text/plain": [
       "array(['Nhà ngõ, hẻm', 'Nhà mặt phố, mặt tiền', 'Nhà biệt thự',\n",
       "       'Nhà phố liền kề'], dtype=object)"
      ]
     },
     "execution_count": 25,
     "metadata": {},
     "output_type": "execute_result"
    }
   ],
   "source": [
    "df['Loại hình nhà ở'].unique()"
   ]
  },
  {
   "cell_type": "code",
   "execution_count": 26,
   "id": "5d15e1ec",
   "metadata": {},
   "outputs": [],
   "source": [
    "loai_hinh_nha_o = ['Nhà ngõ, hẻm', 'Nhà mặt phố, mặt tiền', 'Nhà phố liền kề', 'Nhà biệt thự']\n",
    "df['Loại hình nhà ở'] = df['Loại hình nhà ở'].astype(CategoricalDtype(categories=loai_hinh_nha_o, ordered=True))"
   ]
  },
  {
   "cell_type": "code",
   "execution_count": 27,
   "id": "e083cc69",
   "metadata": {},
   "outputs": [
    {
     "data": {
      "text/plain": [
       "0             Nhà ngõ, hẻm\n",
       "1    Nhà mặt phố, mặt tiền\n",
       "2             Nhà ngõ, hẻm\n",
       "3             Nhà ngõ, hẻm\n",
       "4             Nhà ngõ, hẻm\n",
       "Name: Loại hình nhà ở, dtype: category\n",
       "Categories (4, object): ['Nhà ngõ, hẻm' < 'Nhà mặt phố, mặt tiền' < 'Nhà phố liền kề' < 'Nhà biệt thự']"
      ]
     },
     "execution_count": 27,
     "metadata": {},
     "output_type": "execute_result"
    }
   ],
   "source": [
    "df['Loại hình nhà ở'].head()"
   ]
  },
  {
   "attachments": {},
   "cell_type": "markdown",
   "id": "39dafcb0",
   "metadata": {},
   "source": [
    "## Kiểm tra cột \"Huyện\""
   ]
  },
  {
   "attachments": {},
   "cell_type": "markdown",
   "id": "09f8cfba",
   "metadata": {},
   "source": [
    "Đổi tên 'Huyện' sang 'Phường'"
   ]
  },
  {
   "cell_type": "code",
   "execution_count": 28,
   "id": "0ebfc975",
   "metadata": {},
   "outputs": [],
   "source": [
    "df.rename(columns={'Huyện': 'Phường'}, inplace=True)"
   ]
  },
  {
   "cell_type": "code",
   "execution_count": 29,
   "id": "0120c5d1",
   "metadata": {},
   "outputs": [
    {
     "data": {
      "text/plain": [
       "array(['Phường Nghĩa Đô', 'Phường Kim Giang', 'Phường Minh Khai',\n",
       "       'Phường Thụy Khuê', 'Phường Yên Hoà', 'Phường Trung Liệt',\n",
       "       'Phường Đống Mác', 'Phường Xuân La', 'Phường Văn Quán',\n",
       "       'Thị trấn Văn Điển', 'Phường Định Công', 'Phường Bồ Đề',\n",
       "       'Phường Quang Trung', 'Phường Thanh Lương', 'Phường Khương Trung',\n",
       "       'Phường Phúc Tân', 'Phường Gia Thụy', 'Phường Khương Đình',\n",
       "       'Phường Phương Canh', 'Phường Tương Mai', 'Phường La Khê',\n",
       "       'Phường Mễ Trì', 'Phường Khương Mai', 'Phường Láng Hạ',\n",
       "       'Phường Quan Hoa', 'Phường Tây Mỗ', 'Phường Ngọc Khánh',\n",
       "       'Phường Đại Mỗ', 'Xã Tả Thanh Oai', 'Phường Mỹ Đình 1',\n",
       "       'Xã Tam Hiệp', 'Phường Cống Vị', 'Phường Bách Khoa',\n",
       "       'Phường Vĩnh Phúc', 'Xã Kim Chung', 'Phường Đại Kim',\n",
       "       'Phường Mai Động', 'Phường Trung Tự', 'Phường Kiến Hưng',\n",
       "       'Phường Trúc Bạch', 'Phường Cổ Nhuế 1', 'Phường Đức Giang',\n",
       "       'Phường Mỹ Đình 2', 'Phường Bưởi', 'Phường Ô Chợ Dừa',\n",
       "       'Phường Long Biên', 'Phường Hoàng Văn Thụ', 'Phường Mai Dịch',\n",
       "       'Phường Nhân Chính', 'Phường Vạn Phúc', 'Phường Ngọc Hà',\n",
       "       'Phường Lĩnh Nam', 'Phường Xuân Đỉnh', 'Phường Phú Đô',\n",
       "       'Phường Liễu Giai', 'Thị trấn Phùng', 'Phường Kim Liên',\n",
       "       'Phường Phúc Diễn', 'Phường Kim Mã', 'Phường Trung Phụng',\n",
       "       'Phường Tân Mai', 'Phường Cầu Diễn', 'Phường Ngã Tư Sở',\n",
       "       'Phường Trung Văn', 'Phường Thượng Đình', 'Phường Hoàng Liệt',\n",
       "       'Phường Thịnh Liệt', 'Phường Quốc Tử Giám', 'Phường Khâm Thiên',\n",
       "       'Phường Trương Định', 'Phường Phú Diễn', 'Phường Thạch Bàn',\n",
       "       'Phường Ngọc Thụy', 'Phường Cầu Dền', 'Phường Phú Lương',\n",
       "       'Phường Bạch Đằng', 'Phường Phú La', 'Phường Hà Cầu',\n",
       "       'Phường Láng Thượng', 'Phường Phương Liệt', 'Phường Vĩnh Hưng',\n",
       "       'Phường Thanh Nhàn', 'Phường Cự Khối', 'Phường Đội Cấn',\n",
       "       'Phường Thịnh Quang', 'Phường Trung Hoà', 'Phường Quỳnh Mai',\n",
       "       'Phường Nam Đồng', 'Phường Dịch Vọng Hậu', 'Phường Nghĩa Tân',\n",
       "       'Xã Cự Khê', 'Phường Vĩnh Tuy', 'Phường Quảng An',\n",
       "       'Phường Yên Nghĩa', 'Phường Thành Công', 'Phường Giáp Bát',\n",
       "       'Phường Dịch Vọng', 'Phường Thanh Xuân Bắc', 'Phường Phương Mai',\n",
       "       'Phường Bạch Mai', 'Phường Thanh Trì', 'Phường Thượng Thanh',\n",
       "       'Phường Trần Phú', 'Phường Nguyễn Trãi', 'Phường Dương Nội',\n",
       "       'Phường Hạ Đình', 'Phường Thanh Xuân Nam', 'Xã Vân Canh',\n",
       "       'Xã Phù Lỗ', 'Phường Phố Huế', 'Phường Đồng Tâm',\n",
       "       'Phường Xuân Phương', 'Phường Phạm Đình Hổ', 'Xã La Phù',\n",
       "       'Phường Ngọc Lâm', 'Phường Mộ Lao', 'Phường Phú Thượng',\n",
       "       'Phường Việt Hưng', 'Phường Đông Ngạc', 'Phường Thổ Quan',\n",
       "       'Phường Lê Đại Hành', 'Phường Khương Thượng', 'Phường Phú Lãm',\n",
       "       'Xã Cổ Bi', 'Phường Biên Giang', 'Phường Hàng Bột',\n",
       "       'Phường Cổ Nhuế 2', 'Phường Giảng Võ', 'Thị trấn Chúc Sơn',\n",
       "       'Xã Kiêu Kỵ', 'Phường Cát Linh', 'Phường Quỳnh Lôi',\n",
       "       'Phường Yên Sở', 'Xã Đặng Xá', 'Phường Yết Kiêu',\n",
       "       'Phường Cửa Đông', 'Phường Giang Biên', 'Phường Chương Dương',\n",
       "       'Phường Phúc La', 'Phường Phúc Đồng', 'Phường Thượng Cát',\n",
       "       'Phường Phúc Xá', 'Phường Văn Chương', 'Xã Tứ Hiệp', 'Xã Đông Dư',\n",
       "       'Phường Thanh Xuân Trung', 'Phường Phương Liên', 'Phường Nhật Tân',\n",
       "       'Thị trấn Trạm Trôi', 'Phường Sài Đồng', 'Xã Tân Triều',\n",
       "       'Phường Văn Miếu', 'Xã Đông Hội', 'Xã Phụng Châu',\n",
       "       'Thị trấn Trâu Quỳ', 'Phường Quán Thánh', 'Phường Phúc Lợi',\n",
       "       'Xã Hữu Hoà', 'Phường Đồng Nhân', 'Phường Ngô Thì Nhậm',\n",
       "       'Phường Đồng Mai', 'Xã Đông La', 'Phường Liên Mạc', 'Xã Ngọc Hồi',\n",
       "       'Phường Bùi Thị Xuân', 'Phường Xuân Tảo', 'Phường Yên Phụ',\n",
       "       'Xã Thanh Liệt', 'Phường Thụy Phương', 'Phường Hàng Bông',\n",
       "       'Xã Nghiêm Xuyên', 'Phường Nguyễn Du', 'Phường Tứ Liên',\n",
       "       'Phường Phan Chu Trinh', 'Xã Vĩnh Quỳnh', 'Phường Cửa Nam',\n",
       "       'Xã Di Trạch', 'Phường Hàng Bồ', 'Xã Võng La', 'Phường Điện Biên',\n",
       "       'Xã Bắc Hồng', 'Xã Hải Bối', 'Xã Đại Yên', 'Phường Ngô Quyền',\n",
       "       'Phường Trần Hưng Đạo', 'Xã Liên Ninh', 'Phường Hàng Bài',\n",
       "       'Xã Đông Mỹ', 'Phường Đức Thắng', 'Phường Tràng Tiền',\n",
       "       'Phường Hàng Bạc', 'Xã Ngũ Hiệp', 'Xã An Thượng',\n",
       "       'Phường Hàng Đào', 'Xã Yên Thường', 'Xã Duyên Hà',\n",
       "       'Phường Đồng Xuân', 'Phường Lý Thái Tổ', 'Xã An Khánh',\n",
       "       'Thị trấn Yên Viên', 'Phường Hàng Buồm', 'Xã Lại Yên',\n",
       "       'Xã Bích Hòa', 'Thị trấn Quang Minh', 'Thị trấn Kim Bài',\n",
       "       'Xã Khánh Hà', 'Phường Tây Tựu', 'Xã Thủy Xuân Tiên', 'Xã Kim Nỗ',\n",
       "       'Phường Hàng Trống', 'Xã Tân Lập', 'Xã Đại Thịnh',\n",
       "       'Phường Hàng Mã', 'Xã Bình Yên', 'Xã Vạn Phúc', 'Xã Phú Cường',\n",
       "       'Xã Đa Tốn', 'Xã Minh Phú', 'Phường Nguyễn Trung Trực',\n",
       "       'Thị trấn Quốc Oai', 'Thị trấn Thường Tín', 'Phường Phú Thịnh',\n",
       "       'Xã Đại áng', 'Xã Võng Xuyên', 'Xã Phú Mãn', 'Thị trấn Phú Xuyên',\n",
       "       'Xã Hà Hồi', 'Xã Phú Châu', 'Xã Cổ Đông', 'Xã Vân Côn',\n",
       "       'Xã Xuân Giang', 'Xã Tam Đồng', 'Xã Dương Quang',\n",
       "       'Thị trấn Đông Anh', 'Xã Đông Yên', 'Xã Vân Nội', 'Xã Tiên Dược',\n",
       "       'Xã Hương Ngải', 'Xã Hoàng Văn Thụ', 'Xã Ngọc Liệp', 'Xã Nhị Khê',\n",
       "       'Thị trấn Xuân Mai', 'Xã Bát Tràng', 'Xã Nam Hồng', 'Xã Thạch Hoà',\n",
       "       'Xã Tam Hưng', 'Xã Nguyên Khê', 'Xã Sài Sơn', 'Xã Ninh Hiệp',\n",
       "       'Xã Uy Nỗ', 'Phường Viên Sơn', 'Xã Ninh Sở', 'Xã Phương Trung',\n",
       "       'Xã Vĩnh Ngọc', 'Xã Đại Mạch', 'Xã Kim Sơn', 'Xã Minh Khai',\n",
       "       'Xã Phú Cát', 'Xã Duyên Thái', 'Xã Vân Hòa',\n",
       "       'Phường Trung Sơn Trầm', 'Xã Dương Xá', 'Xã Xuân Nộn',\n",
       "       'Xã Việt Hùng', 'Xã Sơn Đông', 'Xã Văn Bình', 'Phường Hàng Gai',\n",
       "       'Xã Thanh Cao', 'Xã Mai Đình', 'Xã Đông Xuân', 'Xã Mai Lâm',\n",
       "       'Xã Sơn Đồng', 'Xã Tân Xã', 'Phường Xuân Khanh', 'Xã Thượng Mỗ',\n",
       "       'Xã Nghĩa Hương', 'Xã Dương Liễu', 'Xã Đức Thượng', 'Xã Kim Hoa',\n",
       "       'Xã Tiền Phong', 'Xã Bình Phú', 'Xã Dục Tú', 'Xã Đức Giang',\n",
       "       'Xã Yên Viên', 'Xã Đồng Quang', 'Xã Quang Tiến', 'Xã Đại Thành',\n",
       "       'Xã Hòa Thạch', 'Xã Tiến Xuân', 'Xã Phù Linh', 'Xã Đỗ Động',\n",
       "       'Xã Phú Minh', 'Xã Tiên Dương', 'Xã Hợp Thanh', 'Xã Minh Trí',\n",
       "       'Xã Tân Hội', 'Xã Thanh Xuân', 'Xã Song Phương', 'Xã Lê Lợi',\n",
       "       'Thị trấn Sóc Sơn', 'Thị trấn Liên Quan', 'Xã Mê Linh',\n",
       "       'Xã Đan Phượng', 'Xã Vân Tảo', 'Xã Đình Xuyên', 'Xã Phù Đổng',\n",
       "       'Xã Phú Sơn', 'Xã Ngọc Tảo', 'Xã Phương Đình'], dtype=object)"
      ]
     },
     "execution_count": 29,
     "metadata": {},
     "output_type": "execute_result"
    }
   ],
   "source": [
    "df['Phường'].unique()"
   ]
  },
  {
   "attachments": {},
   "cell_type": "markdown",
   "id": "96e6f8d6",
   "metadata": {},
   "source": [
    "Sử dụng thư viện fuzzywuzzy để xử lý các chuỗi khớp nhau"
   ]
  },
  {
   "cell_type": "code",
   "execution_count": 30,
   "id": "e3f5755f",
   "metadata": {},
   "outputs": [],
   "source": [
    "phuong_unique = df['Phường'].unique()"
   ]
  },
  {
   "cell_type": "code",
   "execution_count": 31,
   "id": "6c4468d4",
   "metadata": {},
   "outputs": [
    {
     "data": {
      "text/plain": [
       "[('Phường Nghĩa Đô', 100),\n",
       " ('Phường Nghĩa Tân', 90),\n",
       " ('Phường Yên Nghĩa', 90),\n",
       " ('Phường Hàng Đào', 81),\n",
       " ('Phường Phú Đô', 80),\n",
       " ('Phường Định Công', 76),\n",
       " ('Phường Nam Đồng', 76),\n",
       " ('Phường Đông Ngạc', 76),\n",
       " ('Phường Đồng Nhân', 76),\n",
       " ('Phường Hạ Đình', 74)]"
      ]
     },
     "execution_count": 31,
     "metadata": {},
     "output_type": "execute_result"
    }
   ],
   "source": [
    "matches = fuzzywuzzy.process.extract('Phường Nghĩa Đô', phuong_unique, limit=10, scorer=fuzzywuzzy.fuzz.token_sort_ratio)\n",
    "matches"
   ]
  },
  {
   "cell_type": "code",
   "execution_count": 32,
   "id": "870d600c",
   "metadata": {},
   "outputs": [],
   "source": [
    "def replace_matches_in_column(df, column, string_to_match, min_ratio):\n",
    "    strings = df[column].unique()\n",
    "    matches = fuzzywuzzy.process.extract(string_to_match, strings, \n",
    "                                         limit=10, scorer=fuzzywuzzy.fuzz.token_sort_ratio)\n",
    "\n",
    "    # only get matches with a ratio > 90\n",
    "    close_matches = [matches[0] for matches in matches if matches[1] >= min_ratio]\n",
    "\n",
    "    # get the rows of all the close matches in our dataframe\n",
    "    rows_with_matches = df[column].isin(close_matches)\n",
    "\n",
    "    # replace all rows with close matches with the input matches \n",
    "    df.loc[rows_with_matches, column] = string_to_match"
   ]
  },
  {
   "cell_type": "code",
   "execution_count": 33,
   "id": "e9e42826",
   "metadata": {},
   "outputs": [
    {
     "name": "stdout",
     "output_type": "stream",
     "text": [
      "Done!\n"
     ]
    }
   ],
   "source": [
    "for phuong in phuong_unique:\n",
    "    replace_matches_in_column(df=df, column='Phường', string_to_match=phuong, min_ratio=99)\n",
    "\n",
    "print('Done!')"
   ]
  },
  {
   "attachments": {},
   "cell_type": "markdown",
   "id": "9fcf2742",
   "metadata": {},
   "source": [
    "Đưa cột 'Huyện' về kiểu normial category"
   ]
  },
  {
   "cell_type": "code",
   "execution_count": 34,
   "id": "73ae4798",
   "metadata": {},
   "outputs": [],
   "source": [
    "df['Phường'] = df['Phường'].astype('category')"
   ]
  },
  {
   "attachments": {},
   "cell_type": "markdown",
   "id": "43eac086",
   "metadata": {},
   "source": [
    "## Kiểm tra cột \"Số tầng\""
   ]
  },
  {
   "cell_type": "code",
   "execution_count": 35,
   "id": "a49d3f6d",
   "metadata": {},
   "outputs": [
    {
     "data": {
      "text/plain": [
       "array(['4', nan, '6', '5', '7', '2', '3', '8', '1', '9', '50', '38', '35',\n",
       "       '10', 'Nhiều hơn 10', '45', '33', '42', '25', '73', '12', '65',\n",
       "       '55', '30', '14', '40', '52', '54', '32', '29'], dtype=object)"
      ]
     },
     "execution_count": 35,
     "metadata": {},
     "output_type": "execute_result"
    }
   ],
   "source": [
    "df['Số tầng'].unique()"
   ]
  },
  {
   "cell_type": "code",
   "execution_count": 36,
   "id": "8773c25b",
   "metadata": {},
   "outputs": [],
   "source": [
    "df['Số tầng'].fillna('Unknown', inplace=True)"
   ]
  },
  {
   "cell_type": "code",
   "execution_count": 37,
   "id": "c1213f9e",
   "metadata": {},
   "outputs": [
    {
     "data": {
      "text/plain": [
       "Số tầng\n",
       "Unknown         45971\n",
       "5               15764\n",
       "4               12275\n",
       "3                3618\n",
       "6                2119\n",
       "2                1028\n",
       "1                 636\n",
       "7                 597\n",
       "8                 188\n",
       "9                  88\n",
       "10                 36\n",
       "45                  8\n",
       "Nhiều hơn 10        7\n",
       "35                  6\n",
       "50                  2\n",
       "12                  2\n",
       "38                  2\n",
       "30                  1\n",
       "32                  1\n",
       "54                  1\n",
       "52                  1\n",
       "40                  1\n",
       "14                  1\n",
       "65                  1\n",
       "55                  1\n",
       "73                  1\n",
       "25                  1\n",
       "42                  1\n",
       "33                  1\n",
       "29                  1\n",
       "Name: count, dtype: int64"
      ]
     },
     "execution_count": 37,
     "metadata": {},
     "output_type": "execute_result"
    }
   ],
   "source": [
    "df['Số tầng'].value_counts()"
   ]
  },
  {
   "attachments": {},
   "cell_type": "markdown",
   "id": "17d473a0",
   "metadata": {},
   "source": [
    "Số lượng các nhà có tầng nhiều hơn 10 nhỏ, do vậy ta có thể đưa chúng về '>10'"
   ]
  },
  {
   "cell_type": "code",
   "execution_count": 38,
   "id": "94ca6839",
   "metadata": {},
   "outputs": [],
   "source": [
    "def process_so_tang(x):\n",
    "    try:\n",
    "        if x == 'Nhiều hơn 10' or int(x) > 10:\n",
    "            return '>10'\n",
    "        return x\n",
    "    except:\n",
    "        return x"
   ]
  },
  {
   "cell_type": "code",
   "execution_count": 39,
   "id": "b64d31d0",
   "metadata": {},
   "outputs": [],
   "source": [
    "df['Số tầng'] = df['Số tầng'].apply(process_so_tang)"
   ]
  },
  {
   "cell_type": "code",
   "execution_count": 40,
   "id": "ba1f4cc2",
   "metadata": {},
   "outputs": [
    {
     "data": {
      "text/plain": [
       "Số tầng\n",
       "Unknown    45971\n",
       "5          15764\n",
       "4          12275\n",
       "3           3618\n",
       "6           2119\n",
       "2           1028\n",
       "1            636\n",
       "7            597\n",
       "8            188\n",
       "9             88\n",
       ">10           40\n",
       "10            36\n",
       "Name: count, dtype: int64"
      ]
     },
     "execution_count": 40,
     "metadata": {},
     "output_type": "execute_result"
    }
   ],
   "source": [
    "df['Số tầng'].value_counts()"
   ]
  },
  {
   "attachments": {},
   "cell_type": "markdown",
   "id": "619e45fd",
   "metadata": {},
   "source": [
    "Đưa cột 'Số tầng' về kiểu ordinal category"
   ]
  },
  {
   "cell_type": "code",
   "execution_count": 41,
   "id": "f48dd47c",
   "metadata": {},
   "outputs": [],
   "source": [
    "so_tang = ['Unknown', '1', '2', '3', '4', '5', '6', '7', '8', '9', '10', '>10']\n",
    "df['Số tầng'] = df['Số tầng'].astype(CategoricalDtype(categories=so_tang, ordered=True))"
   ]
  },
  {
   "cell_type": "code",
   "execution_count": 42,
   "id": "616c25a2",
   "metadata": {},
   "outputs": [
    {
     "data": {
      "text/plain": [
       "0          4\n",
       "1    Unknown\n",
       "2          4\n",
       "3    Unknown\n",
       "4    Unknown\n",
       "Name: Số tầng, dtype: category\n",
       "Categories (12, object): ['Unknown' < '1' < '2' < '3' ... '8' < '9' < '10' < '>10']"
      ]
     },
     "execution_count": 42,
     "metadata": {},
     "output_type": "execute_result"
    }
   ],
   "source": [
    "df['Số tầng'].head()"
   ]
  },
  {
   "attachments": {},
   "cell_type": "markdown",
   "id": "21299987",
   "metadata": {},
   "source": [
    "## Kiểm tra cột \"Số phòng ngủ\""
   ]
  },
  {
   "cell_type": "code",
   "execution_count": 43,
   "id": "17354627",
   "metadata": {},
   "outputs": [
    {
     "data": {
      "text/plain": [
       "array(['5 phòng', '3 phòng', '4 phòng', '6 phòng', 'nhiều hơn 10 phòng',\n",
       "       '8 phòng', '2 phòng', '7 phòng', '9 phòng', '1 phòng', '10 phòng'],\n",
       "      dtype=object)"
      ]
     },
     "execution_count": 43,
     "metadata": {},
     "output_type": "execute_result"
    }
   ],
   "source": [
    "df['Số phòng ngủ'].unique()"
   ]
  },
  {
   "attachments": {},
   "cell_type": "markdown",
   "id": "c726161f",
   "metadata": {},
   "source": [
    "Replace 'nhiều hơn 10 phòng' thành '>10'"
   ]
  },
  {
   "cell_type": "code",
   "execution_count": 44,
   "id": "d2c0fedf",
   "metadata": {},
   "outputs": [],
   "source": [
    "df['Số phòng ngủ'].replace('nhiều hơn 10 phòng', '>10', inplace=True)"
   ]
  },
  {
   "cell_type": "code",
   "execution_count": 45,
   "id": "a248f328",
   "metadata": {},
   "outputs": [],
   "source": [
    "\n",
    "so_phong_ngu = ['1 phòng', '2 phòng', '3 phòng', '4 phòng', '5 phòng', '6 phòng', '7 phòng', '8 phòng', '9 phòng', '10 phòng', '>10']\n",
    "df['Số phòng ngủ'] = df['Số phòng ngủ'].astype(CategoricalDtype(categories=so_phong_ngu, ordered=True))"
   ]
  },
  {
   "cell_type": "code",
   "execution_count": 46,
   "id": "b4573b5a",
   "metadata": {},
   "outputs": [
    {
     "data": {
      "text/plain": [
       "0    5 phòng\n",
       "1    3 phòng\n",
       "2    4 phòng\n",
       "3    6 phòng\n",
       "4    4 phòng\n",
       "Name: Số phòng ngủ, dtype: category\n",
       "Categories (11, object): ['1 phòng' < '2 phòng' < '3 phòng' < '4 phòng' ... '8 phòng' < '9 phòng' < '10 phòng' < '>10']"
      ]
     },
     "execution_count": 46,
     "metadata": {},
     "output_type": "execute_result"
    }
   ],
   "source": [
    "df['Số phòng ngủ'].head()"
   ]
  },
  {
   "attachments": {},
   "cell_type": "markdown",
   "id": "ac5319c1",
   "metadata": {},
   "source": [
    "## Kiểm tra cột \"Diện tích\""
   ]
  },
  {
   "cell_type": "code",
   "execution_count": 47,
   "id": "191e0ff5",
   "metadata": {},
   "outputs": [
    {
     "data": {
      "text/plain": [
       "array(['46 m²', '37 m²', '40 m²', '51 m²', '36 m²', '52 m²', '32 m²',\n",
       "       '75 m²', '41 m²', '35 m²', '30 m²', '50 m²', '52.8 m²', '165 m²',\n",
       "       '70 m²', '34 m²', '65 m²', '45 m²', '79 m²', '90 m²', '73 m²',\n",
       "       '18 m²', '42 m²', '43 m²', '25 m²', '38 m²', '49 m²', '33 m²',\n",
       "       '120 m²', '200 m²', '47 m²', '55 m²', '77 m²', '27 m²', '60 m²',\n",
       "       '81 m²', '20 m²', '54 m²', '28 m²', '113 m²', '76 m²', '62 m²',\n",
       "       '11 m²', '44 m²', '21 m²', '58 m²', '196 m²', '48 m²', '24 m²',\n",
       "       '56 m²', '104 m²', '83 m²', '68 m²', '31 m²', '64 m²', '32.1 m²',\n",
       "       '185 m²', '61 m²', '23 m²', '92 m²', '85 m²', '30.2 m²', '26 m²',\n",
       "       '140 m²', '31.5 m²', '63 m²', '39 m²', '80 m²', '57 m²', '16 m²',\n",
       "       '13 m²', '67 m²', '35.22 m²', '110 m²', '35.21 m²', '138 m²',\n",
       "       '3 m²', '40.22 m²', '22 m²', '32.22 m²', '82 m²', '53 m²', '86 m²',\n",
       "       '47.3 m²', '33.33 m²', '87 m²', '96 m²', '66 m²', '451 m²',\n",
       "       '108 m²', '32.07 m²', '125 m²', '33.1 m²', '39.8 m²', '36.5 m²',\n",
       "       '59 m²', '443 m²', '35.5 m²', '46.4 m²', '69 m²', '143 m²',\n",
       "       '83.9 m²', '150 m²', '19 m²', '72 m²', '50.1 m²', '154 m²',\n",
       "       '97 m²', '287.59 m²', '95 m²', '168 m²', '15 m²', '44.3 m²',\n",
       "       '130 m²', '34.1 m²', '84 m²', '74 m²', '51.6 m²', '160 m²',\n",
       "       '100 m²', '3659 m²', '6459 m²', '201.37 m²', '29 m²', '230 m²',\n",
       "       '5 m²', '20430 m²', '102 m²', '78 m²', '174 m²', '101 m²',\n",
       "       '48.4 m²', '89 m²', '47.5 m²', '175 m²', '30.1 m²', '1200 m²',\n",
       "       '224 m²', '40.4 m²', '4.2 m²', '82.5 m²', '35.9 m²', '30.4 m²',\n",
       "       '91 m²', '94 m²', '117 m²', '105 m²', '144 m²', '3.99 m²',\n",
       "       '300 m²', '19.8 m²', '501 m²', '12 m²', '145 m²', '360 m²',\n",
       "       '71 m²', '33.6 m²', '31.6 m²', '109 m²', '115 m²', '260 m²',\n",
       "       '36.2 m²', '133 m²', '210 m²', '460 m²', '131 m²', '93 m²',\n",
       "       '52.9 m²', '135 m²', '126 m²', '142 m²', '98 m²', '396 m²',\n",
       "       '190 m²', '134.9 m²', '21.5 m²', '39.7 m²', '23.5 m²', '37.8 m²',\n",
       "       '31.4 m²', '48.6 m²', '255 m²', '51.8 m²', '198 m²', '107 m²',\n",
       "       '640 m²', '1 m²', '88 m²', '123 m²', '95.1 m²', '241 m²', '136 m²',\n",
       "       '250 m²', '461 m²', '146 m²', '510 m²', '88.5 m²', '75.5 m²',\n",
       "       '216 m²', '121 m²', '86.6 m²', '32.6 m²', '14 m²', '4141 m²',\n",
       "       '176 m²', '24.5 m²', '46.3 m²', '500 m²', '25.5 m²', '114 m²',\n",
       "       '17 m²', '32.3 m²', '163 m²', '6 m²', '46.6 m²', '58.2 m²',\n",
       "       '36.7 m²', '8 m²', '170 m²', '1116 m²', '41.6 m²', '148 m²',\n",
       "       '42.6 m²', '234 m²', '400 m²', '44.5 m²', '33.2 m²', '240 m²',\n",
       "       '808 m²', '334 m²', '256 m²', '39.4 m²', '34.5 m²', '172 m²',\n",
       "       '137 m²', '188 m²', '38.5 m²', '34.6 m²', '157 m²', '56.6 m²',\n",
       "       '162 m²', '1250 m²', '38.4 m²', '23.2 m²', '132 m²', '245 m²',\n",
       "       '60.5 m²', '2300 m²', '63.3 m²', '112 m²', '2200 m²', '2400 m²',\n",
       "       '141 m²', '106 m²', '31.7 m²', '118 m²', '48.8 m²', '33.4 m²',\n",
       "       '10 m²', '46.8 m²', '290 m²', '450 m²', '147 m²', '33.5 m²',\n",
       "       '1946 m²', '39.5 m²', '45.5 m²', '76.1 m²', '110.2 m²', '153 m²',\n",
       "       '99 m²', '52.2 m²', '180 m²', '40.5 m²', '32.4 m²', '232 m²',\n",
       "       '58.5 m²', '30.8 m²', '161 m²', '128 m²', '2 m²', '310 m²',\n",
       "       '166 m²', '550 m²', '315 m²', '65.5 m²', '30.5 m²', '72.1 m²',\n",
       "       '27.5 m²', '30.6 m²', '30.12 m²', '41.9 m²', '38.17 m²', '20.1 m²',\n",
       "       '237 m²', '111 m²', '2320 m²', '214 m²', '195 m²', '181 m²',\n",
       "       '50.3 m²', '36.3 m²', '164 m²', '171 m²', '37.5 m²', '212 m²',\n",
       "       '44.2 m²', '406 m²', '193 m²', '46.2 m²', '187 m²', '94.6 m²',\n",
       "       '68.8 m²', '182 m²', '72.5 m²', '156 m²', '55.5 m²', '36.8 m²',\n",
       "       '238 m²', '220 m²', '513 m²', '152 m²', '246 m²', '208 m²', '4 m²',\n",
       "       '122 m²', '402 m²', '124 m²', '320 m²', '215 m²', '348 m²',\n",
       "       '1000 m²', '192 m²', '1350 m²', '26400 m²', '265 m²', '325 m²',\n",
       "       '1500 m²', '213 m²', '151 m²', '305 m²', '155 m²', '665 m²',\n",
       "       '350 m²', '103 m²', '111411 m²', '225 m²', '489 m²', '268 m²',\n",
       "       '116 m²', '197 m²', '888 m²', '205 m²', '445 m²', '306 m²',\n",
       "       '173 m²', '9 m²', '159 m²', '486 m²', '127 m²', '266 m²', '199 m²',\n",
       "       '480 m²', '177 m²', '272 m²', '167 m²', '209 m²', '40000 m²',\n",
       "       '295 m²', '149 m²', '330 m²', '129 m²', '139 m²', '119 m²',\n",
       "       '371 m²', '534 m²', '355 m²', '304 m²', '1050 m²', '345 m²',\n",
       "       '202 m²', '324 m²', '423 m²', '134 m²', '303 m²', '298 m²',\n",
       "       '235 m²', '760 m²', '750 m²', '186 m²', '474 m²', '280 m²',\n",
       "       '652 m²', '420 m²', '1900 m²', '342 m²', '4848 m²', '3600 m²',\n",
       "       '221 m²', '3235 m²', '323 m²', '219 m²', '218 m²', '416 m²',\n",
       "       '353 m²', '252 m²', '288 m²', '600 m²', '289 m²', '3000 m²',\n",
       "       '229 m²', '293 m²', '677 m²', '183 m²', '271 m²', '374 m²',\n",
       "       '871 m²', '606 m²', '340 m²', '352 m²', '158 m²', '512 m²',\n",
       "       '1179 m²', '228 m²', '184 m²', '231 m²', '312 m²', '540 m²',\n",
       "       '253 m²', '412 m²', '227 m²', '333 m²', '179 m²', '440 m²',\n",
       "       '354 m²', '5625 m²', '4207 m²', '1378 m²', '430 m²', '1280 m²',\n",
       "       '415 m²', '270 m²', '189 m²', '366 m²', '263 m²', '790 m²',\n",
       "       '254 m²', '730 m²', '442 m²', '455 m²', '413 m²', '800 m²',\n",
       "       '203 m²', '825 m²', '435 m²', '1100 m²', '243 m²', '411 m²',\n",
       "       '259 m²', '226 m²', '248 m²', '5246 m²', '201 m²', '367 m²',\n",
       "       '3505 m²', '1375 m²', '637 m²', '422 m²', '204 m²', '286 m²',\n",
       "       '399 m²', '817 m²', '468 m²', '329 m²', '51480 m²', '346 m²',\n",
       "       '1830 m²', '700 m²', '386 m²', '527 m²', '462 m²', '10360 m²',\n",
       "       '211 m²', '608 m²', '390 m²', '277 m²', '6060 m²', '283 m²',\n",
       "       '3131 m²', '495 m²', '660 m²', '191 m²', '287 m²', '380 m²',\n",
       "       '559 m²', '2112 m²', '452 m²', '470 m²', '236 m²', '740 m²',\n",
       "       '1154 m²', '882 m²', '3500 m²', '1260 m²'], dtype=object)"
      ]
     },
     "execution_count": 47,
     "metadata": {},
     "output_type": "execute_result"
    }
   ],
   "source": [
    "df['Diện tích'].unique()"
   ]
  },
  {
   "attachments": {},
   "cell_type": "markdown",
   "id": "227d1d3a",
   "metadata": {},
   "source": [
    "Đưa cột 'Diện tích' về kiểu numerial"
   ]
  },
  {
   "cell_type": "code",
   "execution_count": 48,
   "id": "afadeb17",
   "metadata": {},
   "outputs": [],
   "source": [
    "df['Diện tích'] = df['Diện tích'].apply(lambda x: x.replace('m²', '').replace(',', '.')).astype(float)"
   ]
  },
  {
   "cell_type": "code",
   "execution_count": 49,
   "id": "0796d25a",
   "metadata": {},
   "outputs": [
    {
     "data": {
      "text/plain": [
       "dtype('float64')"
      ]
     },
     "execution_count": 49,
     "metadata": {},
     "output_type": "execute_result"
    }
   ],
   "source": [
    "df['Diện tích'].dtypes"
   ]
  },
  {
   "attachments": {},
   "cell_type": "markdown",
   "id": "12ac89a2",
   "metadata": {},
   "source": [
    "## Xử lý cột \"Dài\" và \"Rộng\""
   ]
  },
  {
   "cell_type": "code",
   "execution_count": 50,
   "id": "2772038f",
   "metadata": {},
   "outputs": [],
   "source": [
    "df['Dài'].fillna('0', inplace=True)\n",
    "df['Rộng'].fillna('0', inplace=True)"
   ]
  },
  {
   "attachments": {},
   "cell_type": "markdown",
   "id": "fccdada5",
   "metadata": {},
   "source": [
    "Đưa cột \"Dài\" và \"Rộng\" về kiểu numerial"
   ]
  },
  {
   "cell_type": "code",
   "execution_count": 51,
   "id": "eeae2032",
   "metadata": {},
   "outputs": [],
   "source": [
    "df['Dài'] = df['Dài'].apply(lambda x: x.replace('m', '').replace(',', '.')).astype(float)\n",
    "df['Rộng'] = df['Rộng'].apply(lambda x: x.replace('m', '').replace(',', '.')).astype(float)"
   ]
  },
  {
   "attachments": {},
   "cell_type": "markdown",
   "id": "7f39aec8",
   "metadata": {},
   "source": [
    "Các giá trị trống cột \"Dài\" nhưng có giá trị cột \"Rộng\""
   ]
  },
  {
   "cell_type": "code",
   "execution_count": 52,
   "id": "76b7075a",
   "metadata": {},
   "outputs": [
    {
     "data": {
      "text/html": [
       "<div>\n",
       "<style scoped>\n",
       "    .dataframe tbody tr th:only-of-type {\n",
       "        vertical-align: middle;\n",
       "    }\n",
       "\n",
       "    .dataframe tbody tr th {\n",
       "        vertical-align: top;\n",
       "    }\n",
       "\n",
       "    .dataframe thead th {\n",
       "        text-align: right;\n",
       "    }\n",
       "</style>\n",
       "<table border=\"1\" class=\"dataframe\">\n",
       "  <thead>\n",
       "    <tr style=\"text-align: right;\">\n",
       "      <th></th>\n",
       "      <th>Ngày</th>\n",
       "      <th>Địa chỉ</th>\n",
       "      <th>Quận</th>\n",
       "      <th>Phường</th>\n",
       "      <th>Loại hình nhà ở</th>\n",
       "      <th>Giấy tờ pháp lý</th>\n",
       "      <th>Số tầng</th>\n",
       "      <th>Số phòng ngủ</th>\n",
       "      <th>Diện tích</th>\n",
       "      <th>Dài</th>\n",
       "      <th>Rộng</th>\n",
       "      <th>Giá/m2</th>\n",
       "    </tr>\n",
       "  </thead>\n",
       "  <tbody>\n",
       "    <tr>\n",
       "      <th>6</th>\n",
       "      <td>2020-08-05</td>\n",
       "      <td>Đường Tây Sơn, Phường Trung Liệt, Quận Đống Đa...</td>\n",
       "      <td>Quận Đống Đa</td>\n",
       "      <td>Phường Trung Liệt</td>\n",
       "      <td>Nhà ngõ, hẻm</td>\n",
       "      <td>Unknown</td>\n",
       "      <td>Unknown</td>\n",
       "      <td>3 phòng</td>\n",
       "      <td>52.0</td>\n",
       "      <td>0.0</td>\n",
       "      <td>4.5</td>\n",
       "      <td>112,5 triệu/m²</td>\n",
       "    </tr>\n",
       "    <tr>\n",
       "      <th>7</th>\n",
       "      <td>2020-08-05</td>\n",
       "      <td>Đường Lò Đúc, Phường Đống Mác, Quận Hai Bà Trư...</td>\n",
       "      <td>Quận Hai Bà Trưng</td>\n",
       "      <td>Phường Đống Mác</td>\n",
       "      <td>Nhà mặt phố, mặt tiền</td>\n",
       "      <td>Đã có sổ</td>\n",
       "      <td>6</td>\n",
       "      <td>5 phòng</td>\n",
       "      <td>32.0</td>\n",
       "      <td>0.0</td>\n",
       "      <td>6.8</td>\n",
       "      <td>184,38 triệu/m²</td>\n",
       "    </tr>\n",
       "    <tr>\n",
       "      <th>9</th>\n",
       "      <td>2020-08-05</td>\n",
       "      <td>Đường 19/5, Phường Văn Quán, Quận Hà Đông, Hà Nội</td>\n",
       "      <td>Quận Hà Đông</td>\n",
       "      <td>Phường Văn Quán</td>\n",
       "      <td>Nhà ngõ, hẻm</td>\n",
       "      <td>Đã có sổ</td>\n",
       "      <td>4</td>\n",
       "      <td>3 phòng</td>\n",
       "      <td>41.0</td>\n",
       "      <td>0.0</td>\n",
       "      <td>3.5</td>\n",
       "      <td>64,63 triệu/m²</td>\n",
       "    </tr>\n",
       "    <tr>\n",
       "      <th>13</th>\n",
       "      <td>2020-08-05</td>\n",
       "      <td>Đường Quang Trung, Phường Quang Trung, Quận Hà...</td>\n",
       "      <td>Quận Hà Đông</td>\n",
       "      <td>Phường Quang Trung</td>\n",
       "      <td>Nhà ngõ, hẻm</td>\n",
       "      <td>Unknown</td>\n",
       "      <td>Unknown</td>\n",
       "      <td>5 phòng</td>\n",
       "      <td>50.0</td>\n",
       "      <td>0.0</td>\n",
       "      <td>5.0</td>\n",
       "      <td>86 triệu/m²</td>\n",
       "    </tr>\n",
       "    <tr>\n",
       "      <th>17</th>\n",
       "      <td>2020-08-05</td>\n",
       "      <td>Đường Phúc Tân, Phường Phúc Tân, Quận Hoàn Kiế...</td>\n",
       "      <td>Quận Hoàn Kiếm</td>\n",
       "      <td>Phường Phúc Tân</td>\n",
       "      <td>Nhà mặt phố, mặt tiền</td>\n",
       "      <td>Đã có sổ</td>\n",
       "      <td>7</td>\n",
       "      <td>&gt;10</td>\n",
       "      <td>165.0</td>\n",
       "      <td>0.0</td>\n",
       "      <td>5.0</td>\n",
       "      <td>103,03 triệu/m²</td>\n",
       "    </tr>\n",
       "    <tr>\n",
       "      <th>...</th>\n",
       "      <td>...</td>\n",
       "      <td>...</td>\n",
       "      <td>...</td>\n",
       "      <td>...</td>\n",
       "      <td>...</td>\n",
       "      <td>...</td>\n",
       "      <td>...</td>\n",
       "      <td>...</td>\n",
       "      <td>...</td>\n",
       "      <td>...</td>\n",
       "      <td>...</td>\n",
       "      <td>...</td>\n",
       "    </tr>\n",
       "    <tr>\n",
       "      <th>82342</th>\n",
       "      <td>2020-04-27</td>\n",
       "      <td>Đường Chợ Khâm Thiên, Phường Trung Phụng, Quận...</td>\n",
       "      <td>Quận Đống Đa</td>\n",
       "      <td>Phường Trung Phụng</td>\n",
       "      <td>Nhà ngõ, hẻm</td>\n",
       "      <td>Đã có sổ</td>\n",
       "      <td>3</td>\n",
       "      <td>2 phòng</td>\n",
       "      <td>22.0</td>\n",
       "      <td>0.0</td>\n",
       "      <td>2.5</td>\n",
       "      <td>63,64 triệu/m²</td>\n",
       "    </tr>\n",
       "    <tr>\n",
       "      <th>82345</th>\n",
       "      <td>2020-04-25</td>\n",
       "      <td>285, Đường Đội Cấn, Phường Đội Cấn, Quận Ba Đì...</td>\n",
       "      <td>Quận Ba Đình</td>\n",
       "      <td>Phường Đội Cấn</td>\n",
       "      <td>Nhà ngõ, hẻm</td>\n",
       "      <td>Đã có sổ</td>\n",
       "      <td>5</td>\n",
       "      <td>3 phòng</td>\n",
       "      <td>41.0</td>\n",
       "      <td>0.0</td>\n",
       "      <td>3.0</td>\n",
       "      <td>75,61 triệu/m²</td>\n",
       "    </tr>\n",
       "    <tr>\n",
       "      <th>82347</th>\n",
       "      <td>2020-04-24</td>\n",
       "      <td>Đường Hoàng Hoa Thám, Phường Ngọc Hà, Quận Ba ...</td>\n",
       "      <td>Quận Ba Đình</td>\n",
       "      <td>Phường Ngọc Hà</td>\n",
       "      <td>Nhà biệt thự</td>\n",
       "      <td>Đã có sổ</td>\n",
       "      <td>4</td>\n",
       "      <td>5 phòng</td>\n",
       "      <td>230.0</td>\n",
       "      <td>0.0</td>\n",
       "      <td>8.0</td>\n",
       "      <td>117,39 triệu/m²</td>\n",
       "    </tr>\n",
       "    <tr>\n",
       "      <th>82357</th>\n",
       "      <td>2020-04-17</td>\n",
       "      <td>Đường Đội Cấn, Phường Đội Cấn, Quận Ba Đình, H...</td>\n",
       "      <td>Quận Ba Đình</td>\n",
       "      <td>Phường Đội Cấn</td>\n",
       "      <td>Nhà ngõ, hẻm</td>\n",
       "      <td>Đã có sổ</td>\n",
       "      <td>6</td>\n",
       "      <td>2 phòng</td>\n",
       "      <td>20.0</td>\n",
       "      <td>0.0</td>\n",
       "      <td>4.0</td>\n",
       "      <td>85 triệu/m²</td>\n",
       "    </tr>\n",
       "    <tr>\n",
       "      <th>82360</th>\n",
       "      <td>2020-04-16</td>\n",
       "      <td>Đường Xã Đàn, Phường Thổ Quan, Quận Đống Đa, H...</td>\n",
       "      <td>Quận Đống Đa</td>\n",
       "      <td>Phường Thổ Quan</td>\n",
       "      <td>Nhà ngõ, hẻm</td>\n",
       "      <td>Đã có sổ</td>\n",
       "      <td>5</td>\n",
       "      <td>3 phòng</td>\n",
       "      <td>34.0</td>\n",
       "      <td>0.0</td>\n",
       "      <td>3.0</td>\n",
       "      <td>85,29 triệu/m²</td>\n",
       "    </tr>\n",
       "  </tbody>\n",
       "</table>\n",
       "<p>15733 rows × 12 columns</p>\n",
       "</div>"
      ],
      "text/plain": [
       "            Ngày                                            Địa chỉ  \\\n",
       "6     2020-08-05  Đường Tây Sơn, Phường Trung Liệt, Quận Đống Đa...   \n",
       "7     2020-08-05  Đường Lò Đúc, Phường Đống Mác, Quận Hai Bà Trư...   \n",
       "9     2020-08-05  Đường 19/5, Phường Văn Quán, Quận Hà Đông, Hà Nội   \n",
       "13    2020-08-05  Đường Quang Trung, Phường Quang Trung, Quận Hà...   \n",
       "17    2020-08-05  Đường Phúc Tân, Phường Phúc Tân, Quận Hoàn Kiế...   \n",
       "...          ...                                                ...   \n",
       "82342 2020-04-27  Đường Chợ Khâm Thiên, Phường Trung Phụng, Quận...   \n",
       "82345 2020-04-25  285, Đường Đội Cấn, Phường Đội Cấn, Quận Ba Đì...   \n",
       "82347 2020-04-24  Đường Hoàng Hoa Thám, Phường Ngọc Hà, Quận Ba ...   \n",
       "82357 2020-04-17  Đường Đội Cấn, Phường Đội Cấn, Quận Ba Đình, H...   \n",
       "82360 2020-04-16  Đường Xã Đàn, Phường Thổ Quan, Quận Đống Đa, H...   \n",
       "\n",
       "                    Quận              Phường        Loại hình nhà ở  \\\n",
       "6           Quận Đống Đa   Phường Trung Liệt           Nhà ngõ, hẻm   \n",
       "7      Quận Hai Bà Trưng     Phường Đống Mác  Nhà mặt phố, mặt tiền   \n",
       "9           Quận Hà Đông     Phường Văn Quán           Nhà ngõ, hẻm   \n",
       "13          Quận Hà Đông  Phường Quang Trung           Nhà ngõ, hẻm   \n",
       "17        Quận Hoàn Kiếm     Phường Phúc Tân  Nhà mặt phố, mặt tiền   \n",
       "...                  ...                 ...                    ...   \n",
       "82342       Quận Đống Đa  Phường Trung Phụng           Nhà ngõ, hẻm   \n",
       "82345       Quận Ba Đình      Phường Đội Cấn           Nhà ngõ, hẻm   \n",
       "82347       Quận Ba Đình      Phường Ngọc Hà           Nhà biệt thự   \n",
       "82357       Quận Ba Đình      Phường Đội Cấn           Nhà ngõ, hẻm   \n",
       "82360       Quận Đống Đa     Phường Thổ Quan           Nhà ngõ, hẻm   \n",
       "\n",
       "      Giấy tờ pháp lý  Số tầng Số phòng ngủ  Diện tích  Dài  Rộng  \\\n",
       "6             Unknown  Unknown      3 phòng       52.0  0.0   4.5   \n",
       "7            Đã có sổ        6      5 phòng       32.0  0.0   6.8   \n",
       "9            Đã có sổ        4      3 phòng       41.0  0.0   3.5   \n",
       "13            Unknown  Unknown      5 phòng       50.0  0.0   5.0   \n",
       "17           Đã có sổ        7          >10      165.0  0.0   5.0   \n",
       "...               ...      ...          ...        ...  ...   ...   \n",
       "82342        Đã có sổ        3      2 phòng       22.0  0.0   2.5   \n",
       "82345        Đã có sổ        5      3 phòng       41.0  0.0   3.0   \n",
       "82347        Đã có sổ        4      5 phòng      230.0  0.0   8.0   \n",
       "82357        Đã có sổ        6      2 phòng       20.0  0.0   4.0   \n",
       "82360        Đã có sổ        5      3 phòng       34.0  0.0   3.0   \n",
       "\n",
       "                Giá/m2  \n",
       "6       112,5 triệu/m²  \n",
       "7      184,38 triệu/m²  \n",
       "9       64,63 triệu/m²  \n",
       "13         86 triệu/m²  \n",
       "17     103,03 triệu/m²  \n",
       "...                ...  \n",
       "82342   63,64 triệu/m²  \n",
       "82345   75,61 triệu/m²  \n",
       "82347  117,39 triệu/m²  \n",
       "82357      85 triệu/m²  \n",
       "82360   85,29 triệu/m²  \n",
       "\n",
       "[15733 rows x 12 columns]"
      ]
     },
     "execution_count": 52,
     "metadata": {},
     "output_type": "execute_result"
    }
   ],
   "source": [
    "df_missing_dai = df[(df['Dài'] == 0) & (df['Rộng'] != 0)]\n",
    "df_missing_dai"
   ]
  },
  {
   "cell_type": "code",
   "execution_count": 53,
   "id": "1ed778b2",
   "metadata": {},
   "outputs": [],
   "source": [
    "df_missing_dai['Dài'] = df_missing_dai['Diện tích'] / df_missing_dai['Rộng']"
   ]
  },
  {
   "attachments": {},
   "cell_type": "markdown",
   "id": "47f16a9e",
   "metadata": {},
   "source": [
    "Các giá trị trống cột \"Rộng\" nhưng có giá trị cột \"Dài\""
   ]
  },
  {
   "cell_type": "code",
   "execution_count": 54,
   "id": "9579d535",
   "metadata": {},
   "outputs": [
    {
     "data": {
      "text/html": [
       "<div>\n",
       "<style scoped>\n",
       "    .dataframe tbody tr th:only-of-type {\n",
       "        vertical-align: middle;\n",
       "    }\n",
       "\n",
       "    .dataframe tbody tr th {\n",
       "        vertical-align: top;\n",
       "    }\n",
       "\n",
       "    .dataframe thead th {\n",
       "        text-align: right;\n",
       "    }\n",
       "</style>\n",
       "<table border=\"1\" class=\"dataframe\">\n",
       "  <thead>\n",
       "    <tr style=\"text-align: right;\">\n",
       "      <th></th>\n",
       "      <th>Ngày</th>\n",
       "      <th>Địa chỉ</th>\n",
       "      <th>Quận</th>\n",
       "      <th>Phường</th>\n",
       "      <th>Loại hình nhà ở</th>\n",
       "      <th>Giấy tờ pháp lý</th>\n",
       "      <th>Số tầng</th>\n",
       "      <th>Số phòng ngủ</th>\n",
       "      <th>Diện tích</th>\n",
       "      <th>Dài</th>\n",
       "      <th>Rộng</th>\n",
       "      <th>Giá/m2</th>\n",
       "    </tr>\n",
       "  </thead>\n",
       "  <tbody>\n",
       "    <tr>\n",
       "      <th>221</th>\n",
       "      <td>2020-08-04</td>\n",
       "      <td>Đường Hoàng Hoa Thám, Phường Đội Cấn, Quận Ba ...</td>\n",
       "      <td>Quận Ba Đình</td>\n",
       "      <td>Phường Đội Cấn</td>\n",
       "      <td>Nhà ngõ, hẻm</td>\n",
       "      <td>Đã có sổ</td>\n",
       "      <td>5</td>\n",
       "      <td>5 phòng</td>\n",
       "      <td>61.0</td>\n",
       "      <td>4.6</td>\n",
       "      <td>0.0</td>\n",
       "      <td>116,39 triệu/m²</td>\n",
       "    </tr>\n",
       "    <tr>\n",
       "      <th>536</th>\n",
       "      <td>2020-08-04</td>\n",
       "      <td>Đường Khương Đình||655, Phường Khương Đình, Qu...</td>\n",
       "      <td>Quận Thanh Xuân</td>\n",
       "      <td>Phường Khương Đình</td>\n",
       "      <td>Nhà ngõ, hẻm</td>\n",
       "      <td>Đã có sổ</td>\n",
       "      <td>5</td>\n",
       "      <td>3 phòng</td>\n",
       "      <td>26.0</td>\n",
       "      <td>7.0</td>\n",
       "      <td>0.0</td>\n",
       "      <td>101,92 triệu/m²</td>\n",
       "    </tr>\n",
       "    <tr>\n",
       "      <th>636</th>\n",
       "      <td>2020-08-04</td>\n",
       "      <td>Đường Lê Trọng Tấn, Phường Khương Mai, Quận Th...</td>\n",
       "      <td>Quận Thanh Xuân</td>\n",
       "      <td>Phường Khương Mai</td>\n",
       "      <td>Nhà ngõ, hẻm</td>\n",
       "      <td>Unknown</td>\n",
       "      <td>Unknown</td>\n",
       "      <td>4 phòng</td>\n",
       "      <td>48.0</td>\n",
       "      <td>48.0</td>\n",
       "      <td>0.0</td>\n",
       "      <td>106,25 triệu/m²</td>\n",
       "    </tr>\n",
       "    <tr>\n",
       "      <th>823</th>\n",
       "      <td>2020-08-04</td>\n",
       "      <td>Ao Sen, Phường Mộ Lao, Quận Hà Đông, Hà Nội</td>\n",
       "      <td>Quận Hà Đông</td>\n",
       "      <td>Phường Mộ Lao</td>\n",
       "      <td>Nhà ngõ, hẻm</td>\n",
       "      <td>Đã có sổ</td>\n",
       "      <td>4</td>\n",
       "      <td>4 phòng</td>\n",
       "      <td>45.0</td>\n",
       "      <td>12.0</td>\n",
       "      <td>0.0</td>\n",
       "      <td>111,11 triệu/m²</td>\n",
       "    </tr>\n",
       "    <tr>\n",
       "      <th>1403</th>\n",
       "      <td>2020-08-04</td>\n",
       "      <td>Đường Lạc Long Quân, Phường Bưởi, Quận Tây Hồ,...</td>\n",
       "      <td>Quận Tây Hồ</td>\n",
       "      <td>Phường Bưởi</td>\n",
       "      <td>Nhà ngõ, hẻm</td>\n",
       "      <td>Đã có sổ</td>\n",
       "      <td>5</td>\n",
       "      <td>6 phòng</td>\n",
       "      <td>95.0</td>\n",
       "      <td>5.0</td>\n",
       "      <td>0.0</td>\n",
       "      <td>110,53 triệu/m²</td>\n",
       "    </tr>\n",
       "    <tr>\n",
       "      <th>...</th>\n",
       "      <td>...</td>\n",
       "      <td>...</td>\n",
       "      <td>...</td>\n",
       "      <td>...</td>\n",
       "      <td>...</td>\n",
       "      <td>...</td>\n",
       "      <td>...</td>\n",
       "      <td>...</td>\n",
       "      <td>...</td>\n",
       "      <td>...</td>\n",
       "      <td>...</td>\n",
       "      <td>...</td>\n",
       "    </tr>\n",
       "    <tr>\n",
       "      <th>80887</th>\n",
       "      <td>2020-06-07</td>\n",
       "      <td>Đường Nguyễn Văn Cừ, Phường Bồ Đề, Quận Long B...</td>\n",
       "      <td>Quận Long Biên</td>\n",
       "      <td>Phường Bồ Đề</td>\n",
       "      <td>Nhà ngõ, hẻm</td>\n",
       "      <td>Đã có sổ</td>\n",
       "      <td>Unknown</td>\n",
       "      <td>4 phòng</td>\n",
       "      <td>65.0</td>\n",
       "      <td>6.0</td>\n",
       "      <td>0.0</td>\n",
       "      <td>54,62 triệu/m²</td>\n",
       "    </tr>\n",
       "    <tr>\n",
       "      <th>81721</th>\n",
       "      <td>2020-06-06</td>\n",
       "      <td>Đường Cự Lộc, Phường Thượng Đình, Quận Thanh X...</td>\n",
       "      <td>Quận Thanh Xuân</td>\n",
       "      <td>Phường Thượng Đình</td>\n",
       "      <td>Nhà ngõ, hẻm</td>\n",
       "      <td>Đã có sổ</td>\n",
       "      <td>4</td>\n",
       "      <td>3 phòng</td>\n",
       "      <td>45.0</td>\n",
       "      <td>4.0</td>\n",
       "      <td>0.0</td>\n",
       "      <td>70 triệu/m²</td>\n",
       "    </tr>\n",
       "    <tr>\n",
       "      <th>82101</th>\n",
       "      <td>2020-06-05</td>\n",
       "      <td>Đường Láng Hạ||386, Phường Láng Hạ, Quận Đống ...</td>\n",
       "      <td>Quận Đống Đa</td>\n",
       "      <td>Phường Láng Hạ</td>\n",
       "      <td>Nhà biệt thự</td>\n",
       "      <td>Đã có sổ</td>\n",
       "      <td>4</td>\n",
       "      <td>4 phòng</td>\n",
       "      <td>71.0</td>\n",
       "      <td>7.0</td>\n",
       "      <td>0.0</td>\n",
       "      <td>133,8 triệu/m²</td>\n",
       "    </tr>\n",
       "    <tr>\n",
       "      <th>82165</th>\n",
       "      <td>2020-05-27</td>\n",
       "      <td>Đường Trường Chinh, Phường Thượng Đình, Quận T...</td>\n",
       "      <td>Quận Thanh Xuân</td>\n",
       "      <td>Phường Thượng Đình</td>\n",
       "      <td>Nhà mặt phố, mặt tiền</td>\n",
       "      <td>Đã có sổ</td>\n",
       "      <td>4</td>\n",
       "      <td>5 phòng</td>\n",
       "      <td>76.0</td>\n",
       "      <td>3.4</td>\n",
       "      <td>0.0</td>\n",
       "      <td>315,79 triệu/m²</td>\n",
       "    </tr>\n",
       "    <tr>\n",
       "      <th>82208</th>\n",
       "      <td>2020-05-20</td>\n",
       "      <td>Đường Tôn Thất Tùng, Phường Kim Liên, Quận Đốn...</td>\n",
       "      <td>Quận Đống Đa</td>\n",
       "      <td>Phường Kim Liên</td>\n",
       "      <td>Nhà ngõ, hẻm</td>\n",
       "      <td>Đã có sổ</td>\n",
       "      <td>5</td>\n",
       "      <td>4 phòng</td>\n",
       "      <td>41.0</td>\n",
       "      <td>11.0</td>\n",
       "      <td>0.0</td>\n",
       "      <td>114,63 triệu/m²</td>\n",
       "    </tr>\n",
       "  </tbody>\n",
       "</table>\n",
       "<p>122 rows × 12 columns</p>\n",
       "</div>"
      ],
      "text/plain": [
       "            Ngày                                            Địa chỉ  \\\n",
       "221   2020-08-04  Đường Hoàng Hoa Thám, Phường Đội Cấn, Quận Ba ...   \n",
       "536   2020-08-04  Đường Khương Đình||655, Phường Khương Đình, Qu...   \n",
       "636   2020-08-04  Đường Lê Trọng Tấn, Phường Khương Mai, Quận Th...   \n",
       "823   2020-08-04        Ao Sen, Phường Mộ Lao, Quận Hà Đông, Hà Nội   \n",
       "1403  2020-08-04  Đường Lạc Long Quân, Phường Bưởi, Quận Tây Hồ,...   \n",
       "...          ...                                                ...   \n",
       "80887 2020-06-07  Đường Nguyễn Văn Cừ, Phường Bồ Đề, Quận Long B...   \n",
       "81721 2020-06-06  Đường Cự Lộc, Phường Thượng Đình, Quận Thanh X...   \n",
       "82101 2020-06-05  Đường Láng Hạ||386, Phường Láng Hạ, Quận Đống ...   \n",
       "82165 2020-05-27  Đường Trường Chinh, Phường Thượng Đình, Quận T...   \n",
       "82208 2020-05-20  Đường Tôn Thất Tùng, Phường Kim Liên, Quận Đốn...   \n",
       "\n",
       "                  Quận              Phường        Loại hình nhà ở  \\\n",
       "221       Quận Ba Đình      Phường Đội Cấn           Nhà ngõ, hẻm   \n",
       "536    Quận Thanh Xuân  Phường Khương Đình           Nhà ngõ, hẻm   \n",
       "636    Quận Thanh Xuân   Phường Khương Mai           Nhà ngõ, hẻm   \n",
       "823       Quận Hà Đông       Phường Mộ Lao           Nhà ngõ, hẻm   \n",
       "1403       Quận Tây Hồ         Phường Bưởi           Nhà ngõ, hẻm   \n",
       "...                ...                 ...                    ...   \n",
       "80887   Quận Long Biên        Phường Bồ Đề           Nhà ngõ, hẻm   \n",
       "81721  Quận Thanh Xuân  Phường Thượng Đình           Nhà ngõ, hẻm   \n",
       "82101     Quận Đống Đa      Phường Láng Hạ           Nhà biệt thự   \n",
       "82165  Quận Thanh Xuân  Phường Thượng Đình  Nhà mặt phố, mặt tiền   \n",
       "82208     Quận Đống Đa     Phường Kim Liên           Nhà ngõ, hẻm   \n",
       "\n",
       "      Giấy tờ pháp lý  Số tầng Số phòng ngủ  Diện tích   Dài  Rộng  \\\n",
       "221          Đã có sổ        5      5 phòng       61.0   4.6   0.0   \n",
       "536          Đã có sổ        5      3 phòng       26.0   7.0   0.0   \n",
       "636           Unknown  Unknown      4 phòng       48.0  48.0   0.0   \n",
       "823          Đã có sổ        4      4 phòng       45.0  12.0   0.0   \n",
       "1403         Đã có sổ        5      6 phòng       95.0   5.0   0.0   \n",
       "...               ...      ...          ...        ...   ...   ...   \n",
       "80887        Đã có sổ  Unknown      4 phòng       65.0   6.0   0.0   \n",
       "81721        Đã có sổ        4      3 phòng       45.0   4.0   0.0   \n",
       "82101        Đã có sổ        4      4 phòng       71.0   7.0   0.0   \n",
       "82165        Đã có sổ        4      5 phòng       76.0   3.4   0.0   \n",
       "82208        Đã có sổ        5      4 phòng       41.0  11.0   0.0   \n",
       "\n",
       "                Giá/m2  \n",
       "221    116,39 triệu/m²  \n",
       "536    101,92 triệu/m²  \n",
       "636    106,25 triệu/m²  \n",
       "823    111,11 triệu/m²  \n",
       "1403   110,53 triệu/m²  \n",
       "...                ...  \n",
       "80887   54,62 triệu/m²  \n",
       "81721      70 triệu/m²  \n",
       "82101   133,8 triệu/m²  \n",
       "82165  315,79 triệu/m²  \n",
       "82208  114,63 triệu/m²  \n",
       "\n",
       "[122 rows x 12 columns]"
      ]
     },
     "execution_count": 54,
     "metadata": {},
     "output_type": "execute_result"
    }
   ],
   "source": [
    "df_missing_rong = df[(df['Dài'] != 0) & (df['Rộng'] == 0)]\n",
    "df_missing_rong"
   ]
  },
  {
   "cell_type": "code",
   "execution_count": 55,
   "id": "45eee26b",
   "metadata": {},
   "outputs": [],
   "source": [
    "df_missing_rong['Rộng'] = df_missing_rong['Diện tích'] / df_missing_rong['Dài']"
   ]
  },
  {
   "cell_type": "code",
   "execution_count": 56,
   "id": "c953df66",
   "metadata": {},
   "outputs": [
    {
     "name": "stdout",
     "output_type": "stream",
     "text": [
      "Số dòng bị thiếu giá trị Dài: 62553 dòng\n"
     ]
    }
   ],
   "source": [
    "print('Số dòng bị thiếu giá trị Dài:', len(df[df['Dài'] == 0]), 'dòng')"
   ]
  },
  {
   "cell_type": "code",
   "execution_count": 57,
   "id": "783627a9",
   "metadata": {},
   "outputs": [],
   "source": [
    "df.loc[df_missing_dai.index, 'Dài'] = df_missing_dai['Dài']"
   ]
  },
  {
   "cell_type": "code",
   "execution_count": 58,
   "id": "6a5dd32c",
   "metadata": {},
   "outputs": [
    {
     "name": "stdout",
     "output_type": "stream",
     "text": [
      "Số dòng bị thiếu giá trị Dài sau khi xử lý:  46820 dòng\n"
     ]
    }
   ],
   "source": [
    "print('Số dòng bị thiếu giá trị Dài sau khi xử lý: ', len(df[df['Dài'] == 0]), 'dòng')"
   ]
  },
  {
   "cell_type": "code",
   "execution_count": 59,
   "id": "b14d8b02",
   "metadata": {},
   "outputs": [],
   "source": [
    "df.loc[df_missing_rong.index, 'Rộng'] = df_missing_rong['Rộng']"
   ]
  },
  {
   "attachments": {},
   "cell_type": "markdown",
   "id": "68a9e2ad",
   "metadata": {},
   "source": [
    "## Xử lý cột \"Giá/m2\""
   ]
  },
  {
   "cell_type": "code",
   "execution_count": 60,
   "id": "7176e789",
   "metadata": {},
   "outputs": [
    {
     "data": {
      "text/plain": [
       "Giá/m2\n",
       "100 triệu/m²         2500\n",
       "80 triệu/m²          1154\n",
       "75 triệu/m²           962\n",
       "90 triệu/m²           838\n",
       "83,33 triệu/m²        810\n",
       "                     ... \n",
       "36,78 triệu/m²          1\n",
       "30,95 triệu/m²          1\n",
       "1,688888888 tỷ/m²       1\n",
       "114,33 triệu/m²         1\n",
       "341,46 triệu/m²         1\n",
       "Name: count, Length: 8328, dtype: int64"
      ]
     },
     "execution_count": 60,
     "metadata": {},
     "output_type": "execute_result"
    }
   ],
   "source": [
    "df['Giá/m2'].value_counts()"
   ]
  },
  {
   "attachments": {},
   "cell_type": "markdown",
   "id": "7a6dea61",
   "metadata": {},
   "source": [
    "Các đơn vị tính trong cột \"Giá\""
   ]
  },
  {
   "cell_type": "code",
   "execution_count": 61,
   "id": "77461f6f",
   "metadata": {},
   "outputs": [
    {
     "data": {
      "text/plain": [
       "Giá/m2\n",
       "triệu/m²    81516\n",
       "đ/m²          727\n",
       "tỷ/m²         117\n",
       "Name: count, dtype: int64"
      ]
     },
     "execution_count": 61,
     "metadata": {},
     "output_type": "execute_result"
    }
   ],
   "source": [
    "don_vi_gia = df['Giá/m2'].apply(lambda x: x.split(' ')[1])\n",
    "don_vi_gia.value_counts()"
   ]
  },
  {
   "cell_type": "code",
   "execution_count": 62,
   "id": "dc565462",
   "metadata": {},
   "outputs": [
    {
     "data": {
      "text/html": [
       "<div>\n",
       "<style scoped>\n",
       "    .dataframe tbody tr th:only-of-type {\n",
       "        vertical-align: middle;\n",
       "    }\n",
       "\n",
       "    .dataframe tbody tr th {\n",
       "        vertical-align: top;\n",
       "    }\n",
       "\n",
       "    .dataframe thead th {\n",
       "        text-align: right;\n",
       "    }\n",
       "</style>\n",
       "<table border=\"1\" class=\"dataframe\">\n",
       "  <thead>\n",
       "    <tr style=\"text-align: right;\">\n",
       "      <th></th>\n",
       "      <th>Ngày</th>\n",
       "      <th>Địa chỉ</th>\n",
       "      <th>Quận</th>\n",
       "      <th>Phường</th>\n",
       "      <th>Loại hình nhà ở</th>\n",
       "      <th>Giấy tờ pháp lý</th>\n",
       "      <th>Số tầng</th>\n",
       "      <th>Số phòng ngủ</th>\n",
       "      <th>Diện tích</th>\n",
       "      <th>Dài</th>\n",
       "      <th>Rộng</th>\n",
       "      <th>Giá/m2</th>\n",
       "    </tr>\n",
       "  </thead>\n",
       "  <tbody>\n",
       "    <tr>\n",
       "      <th>93</th>\n",
       "      <td>2020-08-04</td>\n",
       "      <td>Đường Hàm Nghi, Phường Cầu Diễn, Quận Nam Từ L...</td>\n",
       "      <td>Quận Nam Từ Liêm</td>\n",
       "      <td>Phường Cầu Diễn</td>\n",
       "      <td>Nhà phố liền kề</td>\n",
       "      <td>Đã có sổ</td>\n",
       "      <td>5</td>\n",
       "      <td>4 phòng</td>\n",
       "      <td>113.0</td>\n",
       "      <td>14.125</td>\n",
       "      <td>8.0</td>\n",
       "      <td>247.787 đ/m²</td>\n",
       "    </tr>\n",
       "    <tr>\n",
       "      <th>283</th>\n",
       "      <td>2020-08-04</td>\n",
       "      <td>Chùa Bộc, Phường Kim Liên, Quận Đống Đa, Hà Nội</td>\n",
       "      <td>Quận Đống Đa</td>\n",
       "      <td>Phường Kim Liên</td>\n",
       "      <td>Nhà ngõ, hẻm</td>\n",
       "      <td>Unknown</td>\n",
       "      <td>Unknown</td>\n",
       "      <td>3 phòng</td>\n",
       "      <td>42.0</td>\n",
       "      <td>0.000</td>\n",
       "      <td>0.0</td>\n",
       "      <td>90.476 đ/m²</td>\n",
       "    </tr>\n",
       "    <tr>\n",
       "      <th>338</th>\n",
       "      <td>2020-08-04</td>\n",
       "      <td>Ngõ 405, Đường Ngọc Thụy, Phường Ngọc Thụy, Qu...</td>\n",
       "      <td>Quận Long Biên</td>\n",
       "      <td>Phường Ngọc Thụy</td>\n",
       "      <td>Nhà ngõ, hẻm</td>\n",
       "      <td>Đã có sổ</td>\n",
       "      <td>Unknown</td>\n",
       "      <td>3 phòng</td>\n",
       "      <td>140.0</td>\n",
       "      <td>21.000</td>\n",
       "      <td>6.8</td>\n",
       "      <td>178.571 đ/m²</td>\n",
       "    </tr>\n",
       "    <tr>\n",
       "      <th>351</th>\n",
       "      <td>2020-08-04</td>\n",
       "      <td>Nguyễn Chính, Phường Tân Mai, Quận Hoàng Mai, ...</td>\n",
       "      <td>Quận Hoàng Mai</td>\n",
       "      <td>Phường Tân Mai</td>\n",
       "      <td>Nhà mặt phố, mặt tiền</td>\n",
       "      <td>Đã có sổ</td>\n",
       "      <td>5</td>\n",
       "      <td>6 phòng</td>\n",
       "      <td>60.0</td>\n",
       "      <td>15.000</td>\n",
       "      <td>4.0</td>\n",
       "      <td>125.000 đ/m²</td>\n",
       "    </tr>\n",
       "    <tr>\n",
       "      <th>621</th>\n",
       "      <td>2020-08-04</td>\n",
       "      <td>Đường Nguyễn An Ninh, Phường Đồng Tâm, Quận Ha...</td>\n",
       "      <td>Quận Hai Bà Trưng</td>\n",
       "      <td>Phường Đồng Tâm</td>\n",
       "      <td>Nhà ngõ, hẻm</td>\n",
       "      <td>Đã có sổ</td>\n",
       "      <td>3</td>\n",
       "      <td>2 phòng</td>\n",
       "      <td>53.0</td>\n",
       "      <td>0.000</td>\n",
       "      <td>0.0</td>\n",
       "      <td>75.471 đ/m²</td>\n",
       "    </tr>\n",
       "    <tr>\n",
       "      <th>...</th>\n",
       "      <td>...</td>\n",
       "      <td>...</td>\n",
       "      <td>...</td>\n",
       "      <td>...</td>\n",
       "      <td>...</td>\n",
       "      <td>...</td>\n",
       "      <td>...</td>\n",
       "      <td>...</td>\n",
       "      <td>...</td>\n",
       "      <td>...</td>\n",
       "      <td>...</td>\n",
       "      <td>...</td>\n",
       "    </tr>\n",
       "    <tr>\n",
       "      <th>82294</th>\n",
       "      <td>2020-05-10</td>\n",
       "      <td>Đường Xuân Đỉnh, Phường Xuân La, Quận Tây Hồ, ...</td>\n",
       "      <td>Quận Tây Hồ</td>\n",
       "      <td>Phường Xuân La</td>\n",
       "      <td>Nhà ngõ, hẻm</td>\n",
       "      <td>Đã có sổ</td>\n",
       "      <td>6</td>\n",
       "      <td>5 phòng</td>\n",
       "      <td>49.0</td>\n",
       "      <td>0.000</td>\n",
       "      <td>0.0</td>\n",
       "      <td>59.183 đ/m²</td>\n",
       "    </tr>\n",
       "    <tr>\n",
       "      <th>82316</th>\n",
       "      <td>2020-05-07</td>\n",
       "      <td>Đường Láng, Phường Láng Thượng, Quận Đống Đa, ...</td>\n",
       "      <td>Quận Đống Đa</td>\n",
       "      <td>Phường Láng Thượng</td>\n",
       "      <td>Nhà ngõ, hẻm</td>\n",
       "      <td>Đã có sổ</td>\n",
       "      <td>Unknown</td>\n",
       "      <td>4 phòng</td>\n",
       "      <td>45.0</td>\n",
       "      <td>11.250</td>\n",
       "      <td>4.0</td>\n",
       "      <td>85.555 đ/m²</td>\n",
       "    </tr>\n",
       "    <tr>\n",
       "      <th>82325</th>\n",
       "      <td>2020-05-04</td>\n",
       "      <td>Đường Hào Nam, Phường Ô Chợ Dừa, Quận Đống Đa,...</td>\n",
       "      <td>Quận Đống Đa</td>\n",
       "      <td>Phường Ô Chợ Dừa</td>\n",
       "      <td>Nhà ngõ, hẻm</td>\n",
       "      <td>Đã có sổ</td>\n",
       "      <td>Unknown</td>\n",
       "      <td>4 phòng</td>\n",
       "      <td>38.0</td>\n",
       "      <td>0.000</td>\n",
       "      <td>0.0</td>\n",
       "      <td>86.842 đ/m²</td>\n",
       "    </tr>\n",
       "    <tr>\n",
       "      <th>82344</th>\n",
       "      <td>2020-04-27</td>\n",
       "      <td>Đường Hoàng Mai, Phường Hoàng Văn Thụ, Quận Ho...</td>\n",
       "      <td>Quận Hoàng Mai</td>\n",
       "      <td>Phường Hoàng Văn Thụ</td>\n",
       "      <td>Nhà ngõ, hẻm</td>\n",
       "      <td>Unknown</td>\n",
       "      <td>Unknown</td>\n",
       "      <td>3 phòng</td>\n",
       "      <td>46.0</td>\n",
       "      <td>0.000</td>\n",
       "      <td>0.0</td>\n",
       "      <td>69.565 đ/m²</td>\n",
       "    </tr>\n",
       "    <tr>\n",
       "      <th>82349</th>\n",
       "      <td>2020-04-22</td>\n",
       "      <td>Đường Thổ Quan, Phường Thổ Quan, Quận Đống Đa,...</td>\n",
       "      <td>Quận Đống Đa</td>\n",
       "      <td>Phường Thổ Quan</td>\n",
       "      <td>Nhà ngõ, hẻm</td>\n",
       "      <td>Đã có sổ</td>\n",
       "      <td>Unknown</td>\n",
       "      <td>3 phòng</td>\n",
       "      <td>35.0</td>\n",
       "      <td>0.000</td>\n",
       "      <td>0.0</td>\n",
       "      <td>105.714 đ/m²</td>\n",
       "    </tr>\n",
       "  </tbody>\n",
       "</table>\n",
       "<p>727 rows × 12 columns</p>\n",
       "</div>"
      ],
      "text/plain": [
       "            Ngày                                            Địa chỉ  \\\n",
       "93    2020-08-04  Đường Hàm Nghi, Phường Cầu Diễn, Quận Nam Từ L...   \n",
       "283   2020-08-04    Chùa Bộc, Phường Kim Liên, Quận Đống Đa, Hà Nội   \n",
       "338   2020-08-04  Ngõ 405, Đường Ngọc Thụy, Phường Ngọc Thụy, Qu...   \n",
       "351   2020-08-04  Nguyễn Chính, Phường Tân Mai, Quận Hoàng Mai, ...   \n",
       "621   2020-08-04  Đường Nguyễn An Ninh, Phường Đồng Tâm, Quận Ha...   \n",
       "...          ...                                                ...   \n",
       "82294 2020-05-10  Đường Xuân Đỉnh, Phường Xuân La, Quận Tây Hồ, ...   \n",
       "82316 2020-05-07  Đường Láng, Phường Láng Thượng, Quận Đống Đa, ...   \n",
       "82325 2020-05-04  Đường Hào Nam, Phường Ô Chợ Dừa, Quận Đống Đa,...   \n",
       "82344 2020-04-27  Đường Hoàng Mai, Phường Hoàng Văn Thụ, Quận Ho...   \n",
       "82349 2020-04-22  Đường Thổ Quan, Phường Thổ Quan, Quận Đống Đa,...   \n",
       "\n",
       "                    Quận                Phường        Loại hình nhà ở  \\\n",
       "93      Quận Nam Từ Liêm       Phường Cầu Diễn        Nhà phố liền kề   \n",
       "283         Quận Đống Đa       Phường Kim Liên           Nhà ngõ, hẻm   \n",
       "338       Quận Long Biên      Phường Ngọc Thụy           Nhà ngõ, hẻm   \n",
       "351       Quận Hoàng Mai        Phường Tân Mai  Nhà mặt phố, mặt tiền   \n",
       "621    Quận Hai Bà Trưng       Phường Đồng Tâm           Nhà ngõ, hẻm   \n",
       "...                  ...                   ...                    ...   \n",
       "82294        Quận Tây Hồ        Phường Xuân La           Nhà ngõ, hẻm   \n",
       "82316       Quận Đống Đa    Phường Láng Thượng           Nhà ngõ, hẻm   \n",
       "82325       Quận Đống Đa      Phường Ô Chợ Dừa           Nhà ngõ, hẻm   \n",
       "82344     Quận Hoàng Mai  Phường Hoàng Văn Thụ           Nhà ngõ, hẻm   \n",
       "82349       Quận Đống Đa       Phường Thổ Quan           Nhà ngõ, hẻm   \n",
       "\n",
       "      Giấy tờ pháp lý  Số tầng Số phòng ngủ  Diện tích     Dài  Rộng  \\\n",
       "93           Đã có sổ        5      4 phòng      113.0  14.125   8.0   \n",
       "283           Unknown  Unknown      3 phòng       42.0   0.000   0.0   \n",
       "338          Đã có sổ  Unknown      3 phòng      140.0  21.000   6.8   \n",
       "351          Đã có sổ        5      6 phòng       60.0  15.000   4.0   \n",
       "621          Đã có sổ        3      2 phòng       53.0   0.000   0.0   \n",
       "...               ...      ...          ...        ...     ...   ...   \n",
       "82294        Đã có sổ        6      5 phòng       49.0   0.000   0.0   \n",
       "82316        Đã có sổ  Unknown      4 phòng       45.0  11.250   4.0   \n",
       "82325        Đã có sổ  Unknown      4 phòng       38.0   0.000   0.0   \n",
       "82344         Unknown  Unknown      3 phòng       46.0   0.000   0.0   \n",
       "82349        Đã có sổ  Unknown      3 phòng       35.0   0.000   0.0   \n",
       "\n",
       "             Giá/m2  \n",
       "93     247.787 đ/m²  \n",
       "283     90.476 đ/m²  \n",
       "338    178.571 đ/m²  \n",
       "351    125.000 đ/m²  \n",
       "621     75.471 đ/m²  \n",
       "...             ...  \n",
       "82294   59.183 đ/m²  \n",
       "82316   85.555 đ/m²  \n",
       "82325   86.842 đ/m²  \n",
       "82344   69.565 đ/m²  \n",
       "82349  105.714 đ/m²  \n",
       "\n",
       "[727 rows x 12 columns]"
      ]
     },
     "execution_count": 62,
     "metadata": {},
     "output_type": "execute_result"
    }
   ],
   "source": [
    "df[don_vi_gia == 'đ/m²']"
   ]
  },
  {
   "attachments": {},
   "cell_type": "markdown",
   "id": "f6733cbf",
   "metadata": {},
   "source": [
    "Có thể đ/m² chính là triệu/m²"
   ]
  },
  {
   "cell_type": "code",
   "execution_count": 63,
   "id": "1f7287a2",
   "metadata": {},
   "outputs": [
    {
     "data": {
      "text/html": [
       "<div>\n",
       "<style scoped>\n",
       "    .dataframe tbody tr th:only-of-type {\n",
       "        vertical-align: middle;\n",
       "    }\n",
       "\n",
       "    .dataframe tbody tr th {\n",
       "        vertical-align: top;\n",
       "    }\n",
       "\n",
       "    .dataframe thead th {\n",
       "        text-align: right;\n",
       "    }\n",
       "</style>\n",
       "<table border=\"1\" class=\"dataframe\">\n",
       "  <thead>\n",
       "    <tr style=\"text-align: right;\">\n",
       "      <th></th>\n",
       "      <th>Ngày</th>\n",
       "      <th>Địa chỉ</th>\n",
       "      <th>Quận</th>\n",
       "      <th>Phường</th>\n",
       "      <th>Loại hình nhà ở</th>\n",
       "      <th>Giấy tờ pháp lý</th>\n",
       "      <th>Số tầng</th>\n",
       "      <th>Số phòng ngủ</th>\n",
       "      <th>Diện tích</th>\n",
       "      <th>Dài</th>\n",
       "      <th>Rộng</th>\n",
       "      <th>Giá/m2</th>\n",
       "    </tr>\n",
       "  </thead>\n",
       "  <tbody>\n",
       "    <tr>\n",
       "      <th>1100</th>\n",
       "      <td>2020-08-04</td>\n",
       "      <td>Đường Trường Chinh, Phường Khương Trung, Quận ...</td>\n",
       "      <td>Quận Thanh Xuân</td>\n",
       "      <td>Phường Khương Trung</td>\n",
       "      <td>Nhà ngõ, hẻm</td>\n",
       "      <td>Unknown</td>\n",
       "      <td>Unknown</td>\n",
       "      <td>3 phòng</td>\n",
       "      <td>36.00</td>\n",
       "      <td>0.000000</td>\n",
       "      <td>0.0</td>\n",
       "      <td>1,202777777 tỷ/m²</td>\n",
       "    </tr>\n",
       "    <tr>\n",
       "      <th>1144</th>\n",
       "      <td>2020-08-04</td>\n",
       "      <td>Đường Láng Hạ, Phường Láng Hạ, Quận Đống Đa, H...</td>\n",
       "      <td>Quận Đống Đa</td>\n",
       "      <td>Phường Láng Hạ</td>\n",
       "      <td>Nhà ngõ, hẻm</td>\n",
       "      <td>Đã có sổ</td>\n",
       "      <td>5</td>\n",
       "      <td>3 phòng</td>\n",
       "      <td>35.00</td>\n",
       "      <td>0.000000</td>\n",
       "      <td>0.0</td>\n",
       "      <td>1,142857142 tỷ/m²</td>\n",
       "    </tr>\n",
       "    <tr>\n",
       "      <th>1657</th>\n",
       "      <td>2020-08-04</td>\n",
       "      <td>Đường Văn Khê, Phường La Khê, Quận Hà Đông, Hà...</td>\n",
       "      <td>Quận Hà Đông</td>\n",
       "      <td>Phường La Khê</td>\n",
       "      <td>Nhà phố liền kề</td>\n",
       "      <td>Unknown</td>\n",
       "      <td>Unknown</td>\n",
       "      <td>6 phòng</td>\n",
       "      <td>5.00</td>\n",
       "      <td>0.000000</td>\n",
       "      <td>0.0</td>\n",
       "      <td>1,96 tỷ/m²</td>\n",
       "    </tr>\n",
       "    <tr>\n",
       "      <th>2849</th>\n",
       "      <td>2020-08-03</td>\n",
       "      <td>Đường Vũ Trọng Phụng||702, Phường Thanh Xuân T...</td>\n",
       "      <td>Quận Thanh Xuân</td>\n",
       "      <td>Phường Thanh Xuân Trung</td>\n",
       "      <td>Nhà ngõ, hẻm</td>\n",
       "      <td>Unknown</td>\n",
       "      <td>Unknown</td>\n",
       "      <td>2 phòng</td>\n",
       "      <td>35.00</td>\n",
       "      <td>0.000000</td>\n",
       "      <td>0.0</td>\n",
       "      <td>1,557142857 tỷ/m²</td>\n",
       "    </tr>\n",
       "    <tr>\n",
       "      <th>2939</th>\n",
       "      <td>2020-08-03</td>\n",
       "      <td>Đường Minh Khai, Phường Minh Khai, Quận Hai Bà...</td>\n",
       "      <td>Quận Hai Bà Trưng</td>\n",
       "      <td>Phường Minh Khai</td>\n",
       "      <td>Nhà ngõ, hẻm</td>\n",
       "      <td>Đã có sổ</td>\n",
       "      <td>Unknown</td>\n",
       "      <td>5 phòng</td>\n",
       "      <td>3.99</td>\n",
       "      <td>0.000000</td>\n",
       "      <td>0.0</td>\n",
       "      <td>1,316666666 tỷ/m²</td>\n",
       "    </tr>\n",
       "    <tr>\n",
       "      <th>...</th>\n",
       "      <td>...</td>\n",
       "      <td>...</td>\n",
       "      <td>...</td>\n",
       "      <td>...</td>\n",
       "      <td>...</td>\n",
       "      <td>...</td>\n",
       "      <td>...</td>\n",
       "      <td>...</td>\n",
       "      <td>...</td>\n",
       "      <td>...</td>\n",
       "      <td>...</td>\n",
       "      <td>...</td>\n",
       "    </tr>\n",
       "    <tr>\n",
       "      <th>78107</th>\n",
       "      <td>2020-06-09</td>\n",
       "      <td>Đường Lê Trọng Tấn, Xã Vân Canh, Huyện Hoài Đứ...</td>\n",
       "      <td>Huyện Hoài Đức</td>\n",
       "      <td>Xã Vân Canh</td>\n",
       "      <td>Nhà ngõ, hẻm</td>\n",
       "      <td>Đã có sổ</td>\n",
       "      <td>4</td>\n",
       "      <td>3 phòng</td>\n",
       "      <td>30.00</td>\n",
       "      <td>0.000000</td>\n",
       "      <td>0.0</td>\n",
       "      <td>5,833333333 tỷ/m²</td>\n",
       "    </tr>\n",
       "    <tr>\n",
       "      <th>79034</th>\n",
       "      <td>2020-06-09</td>\n",
       "      <td>Đường Láng, Phường Láng Thượng, Quận Đống Đa, ...</td>\n",
       "      <td>Quận Đống Đa</td>\n",
       "      <td>Phường Láng Thượng</td>\n",
       "      <td>Nhà ngõ, hẻm</td>\n",
       "      <td>Đã có sổ</td>\n",
       "      <td>4</td>\n",
       "      <td>4 phòng</td>\n",
       "      <td>40.00</td>\n",
       "      <td>13.333333</td>\n",
       "      <td>3.0</td>\n",
       "      <td>1,0125 tỷ/m²</td>\n",
       "    </tr>\n",
       "    <tr>\n",
       "      <th>79835</th>\n",
       "      <td>2020-06-08</td>\n",
       "      <td>Đường Chùa Bộc, Phường Nam Đồng, Quận Đống Đa,...</td>\n",
       "      <td>Quận Đống Đa</td>\n",
       "      <td>Phường Nam Đồng</td>\n",
       "      <td>Nhà ngõ, hẻm</td>\n",
       "      <td>Đã có sổ</td>\n",
       "      <td>Unknown</td>\n",
       "      <td>3 phòng</td>\n",
       "      <td>45.00</td>\n",
       "      <td>11.000000</td>\n",
       "      <td>4.0</td>\n",
       "      <td>1,706666666 tỷ/m²</td>\n",
       "    </tr>\n",
       "    <tr>\n",
       "      <th>80222</th>\n",
       "      <td>2020-06-08</td>\n",
       "      <td>Đường Đinh Tiên Hoàng, Phường Lý Thái Tổ, Quận...</td>\n",
       "      <td>Quận Hoàn Kiếm</td>\n",
       "      <td>Phường Lý Thái Tổ</td>\n",
       "      <td>Nhà mặt phố, mặt tiền</td>\n",
       "      <td>Unknown</td>\n",
       "      <td>Unknown</td>\n",
       "      <td>4 phòng</td>\n",
       "      <td>100.00</td>\n",
       "      <td>0.000000</td>\n",
       "      <td>0.0</td>\n",
       "      <td>1,5 tỷ/m²</td>\n",
       "    </tr>\n",
       "    <tr>\n",
       "      <th>81845</th>\n",
       "      <td>2020-06-06</td>\n",
       "      <td>chưa xđ, Đường Hoàng Cầu, Phường Láng Thượng, ...</td>\n",
       "      <td>Quận Đống Đa</td>\n",
       "      <td>Phường Láng Thượng</td>\n",
       "      <td>Nhà phố liền kề</td>\n",
       "      <td>Đã có sổ</td>\n",
       "      <td>7</td>\n",
       "      <td>&gt;10</td>\n",
       "      <td>65.00</td>\n",
       "      <td>16.000000</td>\n",
       "      <td>4.0</td>\n",
       "      <td>2,538461538 tỷ/m²</td>\n",
       "    </tr>\n",
       "  </tbody>\n",
       "</table>\n",
       "<p>117 rows × 12 columns</p>\n",
       "</div>"
      ],
      "text/plain": [
       "            Ngày                                            Địa chỉ  \\\n",
       "1100  2020-08-04  Đường Trường Chinh, Phường Khương Trung, Quận ...   \n",
       "1144  2020-08-04  Đường Láng Hạ, Phường Láng Hạ, Quận Đống Đa, H...   \n",
       "1657  2020-08-04  Đường Văn Khê, Phường La Khê, Quận Hà Đông, Hà...   \n",
       "2849  2020-08-03  Đường Vũ Trọng Phụng||702, Phường Thanh Xuân T...   \n",
       "2939  2020-08-03  Đường Minh Khai, Phường Minh Khai, Quận Hai Bà...   \n",
       "...          ...                                                ...   \n",
       "78107 2020-06-09  Đường Lê Trọng Tấn, Xã Vân Canh, Huyện Hoài Đứ...   \n",
       "79034 2020-06-09  Đường Láng, Phường Láng Thượng, Quận Đống Đa, ...   \n",
       "79835 2020-06-08  Đường Chùa Bộc, Phường Nam Đồng, Quận Đống Đa,...   \n",
       "80222 2020-06-08  Đường Đinh Tiên Hoàng, Phường Lý Thái Tổ, Quận...   \n",
       "81845 2020-06-06  chưa xđ, Đường Hoàng Cầu, Phường Láng Thượng, ...   \n",
       "\n",
       "                    Quận                   Phường        Loại hình nhà ở  \\\n",
       "1100     Quận Thanh Xuân      Phường Khương Trung           Nhà ngõ, hẻm   \n",
       "1144        Quận Đống Đa           Phường Láng Hạ           Nhà ngõ, hẻm   \n",
       "1657        Quận Hà Đông            Phường La Khê        Nhà phố liền kề   \n",
       "2849     Quận Thanh Xuân  Phường Thanh Xuân Trung           Nhà ngõ, hẻm   \n",
       "2939   Quận Hai Bà Trưng         Phường Minh Khai           Nhà ngõ, hẻm   \n",
       "...                  ...                      ...                    ...   \n",
       "78107     Huyện Hoài Đức              Xã Vân Canh           Nhà ngõ, hẻm   \n",
       "79034       Quận Đống Đa       Phường Láng Thượng           Nhà ngõ, hẻm   \n",
       "79835       Quận Đống Đa          Phường Nam Đồng           Nhà ngõ, hẻm   \n",
       "80222     Quận Hoàn Kiếm        Phường Lý Thái Tổ  Nhà mặt phố, mặt tiền   \n",
       "81845       Quận Đống Đa       Phường Láng Thượng        Nhà phố liền kề   \n",
       "\n",
       "      Giấy tờ pháp lý  Số tầng Số phòng ngủ  Diện tích        Dài  Rộng  \\\n",
       "1100          Unknown  Unknown      3 phòng      36.00   0.000000   0.0   \n",
       "1144         Đã có sổ        5      3 phòng      35.00   0.000000   0.0   \n",
       "1657          Unknown  Unknown      6 phòng       5.00   0.000000   0.0   \n",
       "2849          Unknown  Unknown      2 phòng      35.00   0.000000   0.0   \n",
       "2939         Đã có sổ  Unknown      5 phòng       3.99   0.000000   0.0   \n",
       "...               ...      ...          ...        ...        ...   ...   \n",
       "78107        Đã có sổ        4      3 phòng      30.00   0.000000   0.0   \n",
       "79034        Đã có sổ        4      4 phòng      40.00  13.333333   3.0   \n",
       "79835        Đã có sổ  Unknown      3 phòng      45.00  11.000000   4.0   \n",
       "80222         Unknown  Unknown      4 phòng     100.00   0.000000   0.0   \n",
       "81845        Đã có sổ        7          >10      65.00  16.000000   4.0   \n",
       "\n",
       "                  Giá/m2  \n",
       "1100   1,202777777 tỷ/m²  \n",
       "1144   1,142857142 tỷ/m²  \n",
       "1657          1,96 tỷ/m²  \n",
       "2849   1,557142857 tỷ/m²  \n",
       "2939   1,316666666 tỷ/m²  \n",
       "...                  ...  \n",
       "78107  5,833333333 tỷ/m²  \n",
       "79034       1,0125 tỷ/m²  \n",
       "79835  1,706666666 tỷ/m²  \n",
       "80222          1,5 tỷ/m²  \n",
       "81845  2,538461538 tỷ/m²  \n",
       "\n",
       "[117 rows x 12 columns]"
      ]
     },
     "execution_count": 63,
     "metadata": {},
     "output_type": "execute_result"
    }
   ],
   "source": [
    "df[don_vi_gia == 'tỷ/m²']"
   ]
  },
  {
   "attachments": {},
   "cell_type": "markdown",
   "id": "3701c61b",
   "metadata": {},
   "source": [
    "Ta sẽ xử lý bằng cách thêm cột \"Đơn vị tính\", và bỏ đơn vị trong cột \"Giá/m2\", đưa các giá trị trong cột \"Giá/m2\" về numerical"
   ]
  },
  {
   "cell_type": "code",
   "execution_count": 64,
   "id": "c3f6cb85",
   "metadata": {},
   "outputs": [],
   "source": [
    "df['Đơn vị tính'] = df['Giá/m2'].apply(lambda x: x.split(' ')[1])\n",
    "df['Giá/m2'] = df['Giá/m2'].apply(lambda x: x.split(' ')[0])"
   ]
  },
  {
   "attachments": {},
   "cell_type": "markdown",
   "id": "266127d0",
   "metadata": {},
   "source": [
    "Trong cột 'Giá/m2' có các giá trị không thể chuyển sang float"
   ]
  },
  {
   "cell_type": "code",
   "execution_count": 65,
   "id": "1b2885c9",
   "metadata": {},
   "outputs": [],
   "source": [
    "def extract_idx_value(pd_series):\n",
    "    idx = pd_series.index\n",
    "    value = pd_series.values\n",
    "    return idx, value"
   ]
  },
  {
   "cell_type": "code",
   "execution_count": 66,
   "id": "c0f38846",
   "metadata": {},
   "outputs": [
    {
     "name": "stdout",
     "output_type": "stream",
     "text": [
      "52317 2.222.22220022\n",
      "55653 728.000.00728\n"
     ]
    }
   ],
   "source": [
    "idx, values = extract_idx_value(df['Giá/m2'].apply(lambda x: x.replace(',', '.')))\n",
    "\n",
    "for _idx, value in zip(idx, values):\n",
    "    try:\n",
    "        float(value)\n",
    "    except:\n",
    "        print(_idx, value)"
   ]
  },
  {
   "cell_type": "code",
   "execution_count": 67,
   "id": "7a9f1de6",
   "metadata": {},
   "outputs": [],
   "source": [
    "df.drop([52317, 55653], inplace=True)\n",
    "df['Giá/m2'] = df['Giá/m2'].apply(lambda x: x.replace(',', '.')).astype(float)"
   ]
  },
  {
   "attachments": {},
   "cell_type": "markdown",
   "id": "99d0eb96",
   "metadata": {},
   "source": [
    "# Feature Engineering"
   ]
  },
  {
   "attachments": {},
   "cell_type": "markdown",
   "id": "5f698e9d",
   "metadata": {},
   "source": [
    "Tạo feature 'Giá' bằng 'Giá/m2' * 'Diện tích' với đơn vị là triệu.\n",
    "Các entries có 'Đơn vị tính' là 'tỷ/m²' sẽ nhân với 1000"
   ]
  },
  {
   "cell_type": "code",
   "execution_count": 68,
   "id": "1b3ffca2",
   "metadata": {},
   "outputs": [],
   "source": [
    "for row, col in df.iterrows():\n",
    "    df.loc[row, 'Giá'] = col['Giá/m2'] * col['Diện tích']\n",
    "    if col['Đơn vị tính'] == 'tỷ/m²':\n",
    "        df.loc[row, 'Giá'] *= 1000"
   ]
  },
  {
   "attachments": {},
   "cell_type": "markdown",
   "id": "69a99382",
   "metadata": {},
   "source": [
    "Tạo feature 'Nội thành'"
   ]
  },
  {
   "cell_type": "code",
   "execution_count": 69,
   "id": "edbed136",
   "metadata": {},
   "outputs": [],
   "source": [
    "df['Nội thành'] = df['Quận'].apply(lambda x: True if 'Quận' in x else False)"
   ]
  },
  {
   "attachments": {},
   "cell_type": "markdown",
   "id": "082cdc16",
   "metadata": {},
   "source": [
    "Tạo feature 'Năm'"
   ]
  },
  {
   "cell_type": "code",
   "execution_count": 71,
   "id": "e51b8e8b",
   "metadata": {},
   "outputs": [],
   "source": [
    "df['Năm'] = df['Ngày'].dt.year"
   ]
  },
  {
   "attachments": {},
   "cell_type": "markdown",
   "id": "69abb2f3",
   "metadata": {},
   "source": [
    "# EDA"
   ]
  },
  {
   "cell_type": "code",
   "execution_count": 77,
   "id": "95537119",
   "metadata": {},
   "outputs": [
    {
     "data": {
      "image/png": "[encoded data removed]",
      "text/plain": [
       "<Figure size 1200x800 with 1 Axes>"
      ]
     },
     "metadata": {},
     "output_type": "display_data"
    }
   ],
   "source": [
    "plt.figure(figsize=(12, 8))\n",
    "sns.countplot(data=df, y='Quận', hue='Nội thành', order=df['Quận'].value_counts().index)\n",
    "plt.xlabel('Số lượng rao bán')\n",
    "plt.ylabel('Quận (Huyện, Thị xã)')\n",
    "plt.show()"
   ]
  },
  {
   "cell_type": "code",
   "execution_count": null,
   "id": "fd74c332",
   "metadata": {},
   "outputs": [],
   "source": [
    "plt.figure(figsize=(12, 8))\n",
    "df['Quận (Huyện, Thị xã)'].value_counts().plot(kind='barh')\n",
    "\n",
    "plt.show()"
   ]
  },
  {
   "cell_type": "code",
   "execution_count": null,
   "id": "6984f6d9",
   "metadata": {},
   "outputs": [],
   "source": []
  },
  {
   "cell_type": "code",
   "execution_count": null,
   "id": "ddbfc675",
   "metadata": {},
   "outputs": [],
   "source": []
  },
  {
   "cell_type": "code",
   "execution_count": null,
   "id": "8c132f95",
   "metadata": {},
   "outputs": [],
   "source": []
  }
 ],
 "metadata": {
  "kernelspec": {
   "display_name": "Python 3",
   "language": "python",
   "name": "python3"
  },
  "language_info": {
   "codemirror_mode": {
    "name": "ipython",
    "version": 3
   },
   "file_extension": ".py",
   "mimetype": "text/x-python",
   "name": "python",
   "nbconvert_exporter": "python",
   "pygments_lexer": "ipython3",
   "version": "3.10.0"
  }
 },
 "nbformat": 4,
 "nbformat_minor": 5
}
