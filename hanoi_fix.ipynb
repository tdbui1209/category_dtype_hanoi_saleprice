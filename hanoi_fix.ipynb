{
 "cells": [
  {
   "cell_type": "code",
   "execution_count": 1,
   "id": "sapphire-bankruptcy",
   "metadata": {},
   "outputs": [],
   "source": [
    "import pandas as pd\n",
    "import numpy as np\n",
    "\n",
    "import matplotlib.pyplot as plt\n",
    "import seaborn as sns\n",
    "\n",
    "# Thư viện dùng để ẩn các warnings\n",
    "import warnings\n",
    "warnings.filterwarnings('ignore')\n",
    "\n",
    "# Thư viện để xử lý các text entry\n",
    "import fuzzywuzzy\n",
    "from fuzzywuzzy import process\n",
    "\n",
    "from pandas.api.types import CategoricalDtype"
   ]
  },
  {
   "cell_type": "code",
   "execution_count": 2,
   "id": "native-noise",
   "metadata": {},
   "outputs": [
    {
     "data": {
      "text/html": [
       "<div>\n",
       "<style scoped>\n",
       "    .dataframe tbody tr th:only-of-type {\n",
       "        vertical-align: middle;\n",
       "    }\n",
       "\n",
       "    .dataframe tbody tr th {\n",
       "        vertical-align: top;\n",
       "    }\n",
       "\n",
       "    .dataframe thead th {\n",
       "        text-align: right;\n",
       "    }\n",
       "</style>\n",
       "<table border=\"1\" class=\"dataframe\">\n",
       "  <thead>\n",
       "    <tr style=\"text-align: right;\">\n",
       "      <th></th>\n",
       "      <th>Unnamed: 0</th>\n",
       "      <th>Ngày</th>\n",
       "      <th>Địa chỉ</th>\n",
       "      <th>Quận</th>\n",
       "      <th>Huyện</th>\n",
       "      <th>Loại hình nhà ở</th>\n",
       "      <th>Giấy tờ pháp lý</th>\n",
       "      <th>Số tầng</th>\n",
       "      <th>Số phòng ngủ</th>\n",
       "      <th>Diện tích</th>\n",
       "      <th>Dài</th>\n",
       "      <th>Rộng</th>\n",
       "      <th>Giá/m2</th>\n",
       "    </tr>\n",
       "  </thead>\n",
       "  <tbody>\n",
       "    <tr>\n",
       "      <th>0</th>\n",
       "      <td>0.0</td>\n",
       "      <td>2020-08-05</td>\n",
       "      <td>Đường Hoàng Quốc Việt, Phường Nghĩa Đô, Quận C...</td>\n",
       "      <td>Quận Cầu Giấy</td>\n",
       "      <td>Phường Nghĩa Đô</td>\n",
       "      <td>Nhà ngõ, hẻm</td>\n",
       "      <td>Đã có sổ</td>\n",
       "      <td>4</td>\n",
       "      <td>5 phòng</td>\n",
       "      <td>46 m²</td>\n",
       "      <td>NaN</td>\n",
       "      <td>NaN</td>\n",
       "      <td>86,96 triệu/m²</td>\n",
       "    </tr>\n",
       "    <tr>\n",
       "      <th>1</th>\n",
       "      <td>1.0</td>\n",
       "      <td>2020-08-05</td>\n",
       "      <td>Đường Kim Giang, Phường Kim Giang, Quận Thanh ...</td>\n",
       "      <td>Quận Thanh Xuân</td>\n",
       "      <td>Phường Kim Giang</td>\n",
       "      <td>Nhà mặt phố, mặt tiền</td>\n",
       "      <td>NaN</td>\n",
       "      <td>NaN</td>\n",
       "      <td>3 phòng</td>\n",
       "      <td>37 m²</td>\n",
       "      <td>NaN</td>\n",
       "      <td>NaN</td>\n",
       "      <td>116,22 triệu/m²</td>\n",
       "    </tr>\n",
       "    <tr>\n",
       "      <th>2</th>\n",
       "      <td>2.0</td>\n",
       "      <td>2020-08-05</td>\n",
       "      <td>phố minh khai, Phường Minh Khai, Quận Hai Bà T...</td>\n",
       "      <td>Quận Hai Bà Trưng</td>\n",
       "      <td>Phường Minh Khai</td>\n",
       "      <td>Nhà ngõ, hẻm</td>\n",
       "      <td>Đã có sổ</td>\n",
       "      <td>4</td>\n",
       "      <td>4 phòng</td>\n",
       "      <td>40 m²</td>\n",
       "      <td>10 m</td>\n",
       "      <td>4 m</td>\n",
       "      <td>65 triệu/m²</td>\n",
       "    </tr>\n",
       "    <tr>\n",
       "      <th>3</th>\n",
       "      <td>3.0</td>\n",
       "      <td>2020-08-05</td>\n",
       "      <td>Đường Võng Thị, Phường Thụy Khuê, Quận Tây Hồ,...</td>\n",
       "      <td>Quận Tây Hồ</td>\n",
       "      <td>Phường Thụy Khuê</td>\n",
       "      <td>Nhà ngõ, hẻm</td>\n",
       "      <td>Đã có sổ</td>\n",
       "      <td>NaN</td>\n",
       "      <td>6 phòng</td>\n",
       "      <td>51 m²</td>\n",
       "      <td>12.75 m</td>\n",
       "      <td>4 m</td>\n",
       "      <td>100 triệu/m²</td>\n",
       "    </tr>\n",
       "    <tr>\n",
       "      <th>4</th>\n",
       "      <td>4.0</td>\n",
       "      <td>2020-08-05</td>\n",
       "      <td>Đường Kim Giang, Phường Kim Giang, Quận Thanh ...</td>\n",
       "      <td>Quận Thanh Xuân</td>\n",
       "      <td>Phường Kim Giang</td>\n",
       "      <td>Nhà ngõ, hẻm</td>\n",
       "      <td>NaN</td>\n",
       "      <td>NaN</td>\n",
       "      <td>4 phòng</td>\n",
       "      <td>36 m²</td>\n",
       "      <td>9 m</td>\n",
       "      <td>4 m</td>\n",
       "      <td>86,11 triệu/m²</td>\n",
       "    </tr>\n",
       "  </tbody>\n",
       "</table>\n",
       "</div>"
      ],
      "text/plain": [
       "   Unnamed: 0        Ngày                                            Địa chỉ  \\\n",
       "0         0.0  2020-08-05  Đường Hoàng Quốc Việt, Phường Nghĩa Đô, Quận C...   \n",
       "1         1.0  2020-08-05  Đường Kim Giang, Phường Kim Giang, Quận Thanh ...   \n",
       "2         2.0  2020-08-05  phố minh khai, Phường Minh Khai, Quận Hai Bà T...   \n",
       "3         3.0  2020-08-05  Đường Võng Thị, Phường Thụy Khuê, Quận Tây Hồ,...   \n",
       "4         4.0  2020-08-05  Đường Kim Giang, Phường Kim Giang, Quận Thanh ...   \n",
       "\n",
       "                Quận             Huyện        Loại hình nhà ở Giấy tờ pháp lý  \\\n",
       "0      Quận Cầu Giấy   Phường Nghĩa Đô           Nhà ngõ, hẻm        Đã có sổ   \n",
       "1    Quận Thanh Xuân  Phường Kim Giang  Nhà mặt phố, mặt tiền             NaN   \n",
       "2  Quận Hai Bà Trưng  Phường Minh Khai           Nhà ngõ, hẻm        Đã có sổ   \n",
       "3        Quận Tây Hồ  Phường Thụy Khuê           Nhà ngõ, hẻm        Đã có sổ   \n",
       "4    Quận Thanh Xuân  Phường Kim Giang           Nhà ngõ, hẻm             NaN   \n",
       "\n",
       "  Số tầng Số phòng ngủ Diện tích      Dài Rộng           Giá/m2  \n",
       "0       4      5 phòng     46 m²      NaN  NaN   86,96 triệu/m²  \n",
       "1     NaN      3 phòng     37 m²      NaN  NaN  116,22 triệu/m²  \n",
       "2       4      4 phòng     40 m²     10 m  4 m      65 triệu/m²  \n",
       "3     NaN      6 phòng     51 m²  12.75 m  4 m     100 triệu/m²  \n",
       "4     NaN      4 phòng     36 m²      9 m  4 m   86,11 triệu/m²  "
      ]
     },
     "execution_count": 2,
     "metadata": {},
     "output_type": "execute_result"
    }
   ],
   "source": [
    "# Load dữ liệu và xem vài dòng đầu tiên của data.\n",
    "\n",
    "df = pd.read_csv('D:\\Pandora Box\\datasets\\VN_housing_dataset.csv')\n",
    "df.head()"
   ]
  },
  {
   "cell_type": "code",
   "execution_count": 3,
   "id": "plain-enzyme",
   "metadata": {},
   "outputs": [
    {
     "name": "stdout",
     "output_type": "stream",
     "text": [
      "<class 'pandas.core.frame.DataFrame'>\n",
      "RangeIndex: 82497 entries, 0 to 82496\n",
      "Data columns (total 13 columns):\n",
      " #   Column           Non-Null Count  Dtype  \n",
      "---  ------           --------------  -----  \n",
      " 0   Unnamed: 0       82496 non-null  float64\n",
      " 1   Ngày             82496 non-null  object \n",
      " 2   Địa chỉ          82449 non-null  object \n",
      " 3   Quận             82495 non-null  object \n",
      " 4   Huyện            82449 non-null  object \n",
      " 5   Loại hình nhà ở  82465 non-null  object \n",
      " 6   Giấy tờ pháp lý  53610 non-null  object \n",
      " 7   Số tầng          36399 non-null  object \n",
      " 8   Số phòng ngủ     82458 non-null  object \n",
      " 9   Diện tích        82495 non-null  object \n",
      " 10  Dài              19827 non-null  object \n",
      " 11  Rộng             35445 non-null  object \n",
      " 12  Giá/m2           82484 non-null  object \n",
      "dtypes: float64(1), object(12)\n",
      "memory usage: 8.2+ MB\n"
     ]
    }
   ],
   "source": [
    "# Xem thông tin của data\n",
    "\n",
    "df.info()"
   ]
  },
  {
   "cell_type": "markdown",
   "id": "macro-canal",
   "metadata": {},
   "source": [
    "Đầu tiên chúng ta cần phải drop hoặc lấy Unnamed: 0 làm index, nó chỉ là id của các quan sát.\n",
    "\n",
    "Thứ hai, ở đây có cột Huyện nhưng lại chứa dữ liệu Phường chắc chắn là người làm bộ data này nhầm lẫn, chúng ta sẽ sửa nó thành Phường."
   ]
  },
  {
   "cell_type": "code",
   "execution_count": 4,
   "id": "grave-bulgarian",
   "metadata": {},
   "outputs": [],
   "source": [
    "df.drop(['Unnamed: 0'], axis=1, inplace=True)\n",
    "df.rename({'Huyện': 'Phường'}, axis=1, inplace=True)"
   ]
  },
  {
   "cell_type": "markdown",
   "id": "arctic-steps",
   "metadata": {},
   "source": [
    "Chúng ta hạn chế để data ở kiểu object. Kiểu object không chỉ là string, mà list, set, dict cũng đều được coi là object\n",
    "\n",
    "\"Địa chỉ\", mình sẽ để nguyên là object. Vì clean nó thực sự mất rất nhiều thời gian, nó là nồi thập cẩm với đủ loại định dạng và typos.<br>\n",
    "\"Quận\", \"Số phòng ngủ\", mình sẽ đưa về category, nhưng ở đây sẽ có 2 kiểu category.<br>"
   ]
  },
  {
   "cell_type": "markdown",
   "id": "lined-discharge",
   "metadata": {},
   "source": [
    "# 1. Norminal Category"
   ]
  },
  {
   "cell_type": "code",
   "execution_count": 6,
   "id": "vital-elder",
   "metadata": {},
   "outputs": [
    {
     "data": {
      "text/plain": [
       "array(['Quận Cầu Giấy', 'Quận Thanh Xuân', 'Quận Hai Bà Trưng',\n",
       "       'Quận Tây Hồ', 'Quận Đống Đa', 'Quận Hà Đông', 'Huyện Thanh Trì',\n",
       "       'Quận Hoàng Mai', 'Quận Long Biên', 'Quận Hoàn Kiếm',\n",
       "       'Quận Nam Từ Liêm', 'Quận Ba Đình', 'Huyện Hoài Đức',\n",
       "       'Quận Bắc Từ Liêm', 'Huyện Đan Phượng', 'Huyện Thanh Oai',\n",
       "       'Huyện Sóc Sơn', 'Huyện Gia Lâm', 'Huyện Chương Mỹ',\n",
       "       'Huyện Đông Anh', 'Huyện Thường Tín', 'Thị xã Sơn Tây',\n",
       "       'Huyện Mê Linh', 'Huyện Thạch Thất', 'Huyện Quốc Oai',\n",
       "       'Huyện Phúc Thọ', 'Huyện Phú Xuyên', 'Huyện Ba Vì', nan,\n",
       "       'Huyện Mỹ Đức'], dtype=object)"
      ]
     },
     "execution_count": 6,
     "metadata": {},
     "output_type": "execute_result"
    }
   ],
   "source": [
    "df['Quận'].unique()"
   ]
  },
  {
   "cell_type": "markdown",
   "id": "detected-perth",
   "metadata": {},
   "source": [
    "Mình sẽ fillna với 'missing', còn các giá trị còn lại sẽ split rồi lấy join [1:]\n"
   ]
  },
  {
   "cell_type": "code",
   "execution_count": 7,
   "id": "later-throw",
   "metadata": {},
   "outputs": [],
   "source": [
    "df['Quận'].fillna('missing', inplace=True)\n",
    "\n",
    "df['Quận'] = df['Quận'].str.split()\n",
    "df['Quận'] = df['Quận'].apply(lambda x: ' '.join(x[1:]) if len(x) > 1 else x[0])\n",
    "\n",
    "df['Quận'].replace('xã Sơn Tây', 'Sơn Tây', inplace=True)"
   ]
  },
  {
   "cell_type": "code",
   "execution_count": 8,
   "id": "mounted-cookie",
   "metadata": {},
   "outputs": [
    {
     "data": {
      "image/png": "[encoded data removed]",
      "text/plain": [
       "<Figure size 864x576 with 1 Axes>"
      ]
     },
     "metadata": {
      "needs_background": "light"
     },
     "output_type": "display_data"
    }
   ],
   "source": [
    "plt.figure(figsize=(12, 8))\n",
    "df['Quận'].value_counts().plot(kind='barh')\n",
    "plt.xlabel('Số lượng rao bán')\n",
    "plt.ylabel('Quận (Huyện)')\n",
    "plt.show()"
   ]
  },
  {
   "cell_type": "markdown",
   "id": "rising-claim",
   "metadata": {},
   "source": [
    "Sau đó mình sẽ chuyển data-type của 'Quận' sang 'category'.\n",
    "\n",
    "Nếu các giá trị của 1 cột là hữu hạn, ta nên đưa nó về category, nó sẽ giúp tiết kiệm khá nhều bộ nhớ, cũng như có thể sử dụng các thao tác khác, mà kiểu object không thể, mặc dù cả hai đều chứa string.<br>\n",
    "Trong trường hợp, côt đó chứa feedback, hoặc description của sản phẩm, thì ta sẽ để nó ở kiểu object."
   ]
  },
  {
   "cell_type": "code",
   "execution_count": 9,
   "id": "honey-monitor",
   "metadata": {},
   "outputs": [
    {
     "name": "stdout",
     "output_type": "stream",
     "text": [
      "Trước khi chuyển sang categoy: 660104\n"
     ]
    }
   ],
   "source": [
    "before = df['Quận'].memory_usage()\n",
    "print(f'Trước khi chuyển sang categoy: {before}')"
   ]
  },
  {
   "cell_type": "code",
   "execution_count": 10,
   "id": "medium-privacy",
   "metadata": {},
   "outputs": [
    {
     "name": "stdout",
     "output_type": "stream",
     "text": [
      "Sau khi chuyển sang category: 83937\n",
      "Giảm tới: 87.28427641704943%\n"
     ]
    }
   ],
   "source": [
    "df['Quận'] = df['Quận'].astype('category')\n",
    "\n",
    "after = df['Quận'].memory_usage()\n",
    "print(f'Sau khi chuyển sang category: {after}')\n",
    "print(f'Giảm tới: {(before - after) / before * 100}%')"
   ]
  },
  {
   "cell_type": "markdown",
   "id": "married-inventory",
   "metadata": {},
   "source": [
    "# Giảm tới: 87.28427641704943% đó quý zị ạ"
   ]
  },
  {
   "cell_type": "markdown",
   "id": "raised-proposition",
   "metadata": {},
   "source": [
    "Hoặc ta có thể Encode, sắp xếp, so sánh (nếu như đó là ordinal category)."
   ]
  },
  {
   "cell_type": "code",
   "execution_count": 11,
   "id": "confirmed-cholesterol",
   "metadata": {},
   "outputs": [
    {
     "data": {
      "text/plain": [
       "Index(['Ba Vì', 'Ba Đình', 'Bắc Từ Liêm', 'Chương Mỹ', 'Cầu Giấy', 'Gia Lâm',\n",
       "       'Hai Bà Trưng', 'Hoài Đức', 'Hoàn Kiếm', 'Hoàng Mai', 'Hà Đông',\n",
       "       'Long Biên', 'Mê Linh', 'Mỹ Đức', 'Nam Từ Liêm', 'Phú Xuyên',\n",
       "       'Phúc Thọ', 'Quốc Oai', 'Sóc Sơn', 'Sơn Tây', 'Thanh Oai', 'Thanh Trì',\n",
       "       'Thanh Xuân', 'Thường Tín', 'Thạch Thất', 'Tây Hồ', 'missing',\n",
       "       'Đan Phượng', 'Đông Anh', 'Đống Đa'],\n",
       "      dtype='object')"
      ]
     },
     "execution_count": 11,
     "metadata": {},
     "output_type": "execute_result"
    }
   ],
   "source": [
    "df['Quận'].cat.categories"
   ]
  },
  {
   "cell_type": "code",
   "execution_count": 12,
   "id": "hairy-submission",
   "metadata": {},
   "outputs": [
    {
     "data": {
      "text/plain": [
       "0     4\n",
       "1    22\n",
       "2     6\n",
       "3    25\n",
       "4    22\n",
       "dtype: int8"
      ]
     },
     "execution_count": 12,
     "metadata": {},
     "output_type": "execute_result"
    }
   ],
   "source": [
    "df['Quận'].cat.codes[:5]"
   ]
  },
  {
   "cell_type": "code",
   "execution_count": 13,
   "id": "amber-facility",
   "metadata": {},
   "outputs": [
    {
     "data": {
      "text/plain": [
       "0        Cầu Giấy\n",
       "1      Thanh Xuân\n",
       "2    Hai Bà Trưng\n",
       "3          Tây Hồ\n",
       "4      Thanh Xuân\n",
       "Name: Quận, dtype: category\n",
       "Categories (30, object): ['Ba Vì', 'Ba Đình', 'Bắc Từ Liêm', 'Chương Mỹ', ..., 'missing', 'Đan Phượng', 'Đông Anh', 'Đống Đa']"
      ]
     },
     "execution_count": 13,
     "metadata": {},
     "output_type": "execute_result"
    }
   ],
   "source": [
    "df['Quận'].head()"
   ]
  },
  {
   "cell_type": "markdown",
   "id": "competent-narrative",
   "metadata": {},
   "source": [
    "# 2. Ordinal Category\n",
    "\n",
    "Việc chuyển sang Ordinal Category cũng giống như Norminal Category vậy. Nhưng ta sẽ thêm vào đó order của các giá trị.<br>\n",
    "Ví dụ, 'thấp' < 'trung bình' < 'cao' - chính là 1 ordinal category."
   ]
  },
  {
   "cell_type": "code",
   "execution_count": 14,
   "id": "together-eagle",
   "metadata": {},
   "outputs": [],
   "source": [
    "df['Giấy tờ pháp lý'].fillna('missing', inplace=True)"
   ]
  },
  {
   "cell_type": "code",
   "execution_count": 15,
   "id": "south-binary",
   "metadata": {},
   "outputs": [
    {
     "data": {
      "text/plain": [
       "array(['Đã có sổ', 'missing', 'Đang chờ sổ', 'Giấy tờ khác'], dtype=object)"
      ]
     },
     "execution_count": 15,
     "metadata": {},
     "output_type": "execute_result"
    }
   ],
   "source": [
    "df['Giấy tờ pháp lý'].unique()"
   ]
  },
  {
   "cell_type": "markdown",
   "id": "scheduled-facility",
   "metadata": {},
   "source": [
    "Ở đây ta có 'Đã có sổ', nan, 'Đang chờ sổ', 'Giấy tờ khác', vậy ta có thể tưởng tượng trong đầu ra thứ tự của nó.<br>\n",
    "\n",
    "'missing < 'Giấy tờ khác' < 'Đang chờ sổ' < 'Đã có sổ'"
   ]
  },
  {
   "cell_type": "markdown",
   "id": "renewable-local",
   "metadata": {},
   "source": [
    "### Trước khi chuyển sang ordinal category"
   ]
  },
  {
   "cell_type": "code",
   "execution_count": 16,
   "id": "equal-antibody",
   "metadata": {},
   "outputs": [
    {
     "name": "stdout",
     "output_type": "stream",
     "text": [
      "Trước khi chuyển sang ordinal category\n"
     ]
    },
    {
     "data": {
      "text/plain": [
       "array(['Đã có sổ', 'missing', 'Đang chờ sổ'], dtype=object)"
      ]
     },
     "execution_count": 16,
     "metadata": {},
     "output_type": "execute_result"
    }
   ],
   "source": [
    "df[df['Giấy tờ pháp lý'] > 'Giấy tờ khác']['Giấy tờ pháp lý'].unique()"
   ]
  },
  {
   "cell_type": "code",
   "execution_count": 17,
   "id": "unable-bundle",
   "metadata": {},
   "outputs": [],
   "source": [
    "df['Giấy tờ pháp lý'] = df['Giấy tờ pháp lý'].astype(CategoricalDtype(categories=['missing', 'Giấy tờ khác', 'Đang chờ sổ', 'Đã có sổ'],\n",
    "                                                                      ordered=True))"
   ]
  },
  {
   "cell_type": "markdown",
   "id": "hairy-myanmar",
   "metadata": {},
   "source": [
    "### Sau khi chuyển sang ordinal category"
   ]
  },
  {
   "cell_type": "code",
   "execution_count": 18,
   "id": "gentle-trigger",
   "metadata": {},
   "outputs": [
    {
     "name": "stdout",
     "output_type": "stream",
     "text": [
      "Sau khi chuyển sang ordinal category\n"
     ]
    },
    {
     "data": {
      "text/plain": [
       "['Đã có sổ', 'Đang chờ sổ']\n",
       "Categories (2, object): ['Đang chờ sổ' < 'Đã có sổ']"
      ]
     },
     "execution_count": 18,
     "metadata": {},
     "output_type": "execute_result"
    }
   ],
   "source": [
    "df[df['Giấy tờ pháp lý'] > 'Giấy tờ khác']['Giấy tờ pháp lý'].unique()"
   ]
  },
  {
   "cell_type": "code",
   "execution_count": 19,
   "id": "illegal-destruction",
   "metadata": {},
   "outputs": [
    {
     "data": {
      "text/plain": [
       "0        Đã có sổ\n",
       "1         missing\n",
       "2        Đã có sổ\n",
       "3        Đã có sổ\n",
       "4         missing\n",
       "           ...   \n",
       "82492     missing\n",
       "82493    Đã có sổ\n",
       "82494    Đã có sổ\n",
       "82495     missing\n",
       "82496     missing\n",
       "Name: Giấy tờ pháp lý, Length: 82497, dtype: category\n",
       "Categories (4, object): ['missing' < 'Giấy tờ khác' < 'Đang chờ sổ' < 'Đã có sổ']"
      ]
     },
     "execution_count": 19,
     "metadata": {},
     "output_type": "execute_result"
    }
   ],
   "source": [
    "df['Giấy tờ pháp lý']"
   ]
  },
  {
   "cell_type": "code",
   "execution_count": 20,
   "id": "personal-michael",
   "metadata": {},
   "outputs": [
    {
     "data": {
      "image/png": "[encoded data removed]",
      "text/plain": [
       "<Figure size 864x576 with 1 Axes>"
      ]
     },
     "metadata": {
      "needs_background": "light"
     },
     "output_type": "display_data"
    }
   ],
   "source": [
    "plt.figure(figsize=(12, 8))\n",
    "df['Giấy tờ pháp lý'].value_counts().plot(kind='barh')\n",
    "plt.xlabel('Số lượng rao bán')\n",
    "plt.ylabel('Giấy tờ')\n",
    "plt.show()"
   ]
  },
  {
   "cell_type": "code",
   "execution_count": null,
   "id": "earned-manhattan",
   "metadata": {},
   "outputs": [],
   "source": []
  }
 ],
 "metadata": {
  "kernelspec": {
   "display_name": "Python 3",
   "language": "python",
   "name": "python3"
  },
  "language_info": {
   "codemirror_mode": {
    "name": "ipython",
    "version": 3
   },
   "file_extension": ".py",
   "mimetype": "text/x-python",
   "name": "python",
   "nbconvert_exporter": "python",
   "pygments_lexer": "ipython3",
   "version": "3.8.8"
  }
 },
 "nbformat": 4,
 "nbformat_minor": 5
}
